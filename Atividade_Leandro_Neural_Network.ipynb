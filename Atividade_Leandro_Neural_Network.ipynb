{
  "nbformat": 4,
  "nbformat_minor": 0,
  "metadata": {
    "colab": {
      "name": "Atividade_Leandro_Neural_Network.ipynb",
      "provenance": [],
      "collapsed_sections": [
        "IhnfUIQ1eusd",
        "j8KLF7KagKBP",
        "cWbkEg1GkXSq"
      ],
      "authorship_tag": "ABX9TyPiyKaCE/wej0FiS4wgm9J8",
      "include_colab_link": true
    },
    "kernelspec": {
      "name": "python3",
      "display_name": "Python 3"
    },
    "language_info": {
      "name": "python"
    },
    "accelerator": "GPU"
  },
  "cells": [
    {
      "cell_type": "markdown",
      "metadata": {
        "id": "view-in-github",
        "colab_type": "text"
      },
      "source": [
        "<a href=\"https://colab.research.google.com/github/Leandro-Braga/Estudo_de_Caso/blob/main/Atividade_Leandro_Neural_Network.ipynb\" target=\"_parent\"><img src=\"https://colab.research.google.com/assets/colab-badge.svg\" alt=\"Open In Colab\"/></a>"
      ]
    },
    {
      "cell_type": "code",
      "source": [
        "# condacolab KERNEL RESTART\n",
        "print(\"🔁 Restarting kernel...\")\n",
        "get_ipython().kernel.do_shutdown(True)"
      ],
      "metadata": {
        "colab": {
          "base_uri": "https://localhost:8080/"
        },
        "id": "u1BmNZt1Xm6V",
        "outputId": "b5aa134b-8b88-4fbe-8949-ec30e87eb9d8"
      },
      "execution_count": 60,
      "outputs": [
        {
          "output_type": "stream",
          "name": "stdout",
          "text": [
            "🔁 Restarting kernel...\n"
          ]
        },
        {
          "output_type": "execute_result",
          "data": {
            "text/plain": [
              "{'restart': True, 'status': 'ok'}"
            ]
          },
          "metadata": {},
          "execution_count": 60
        }
      ]
    },
    {
      "cell_type": "markdown",
      "source": [
        "**Tema: Redes Neurais**"
      ],
      "metadata": {
        "id": "IW00hNXzqw9J"
      }
    },
    {
      "cell_type": "markdown",
      "source": [
        "O Dataset Fashion-MNIST é um conjunto de dados de imagens de artigos, consistindo em um conjunto de treinamento de 60.000 exemplos e um conjunto de teste de 10.000 exemplos. Cada exemplo é uma imagem de 28x28, associada a um rótulo de 10 classes. Fashion-MNIST serve como um substituto direto para o conjunto de dados MNIST original para benchmarking de algoritmos de aprendizado de máquina. Ele compartilha o mesmo tamanho de imagem e estrutura das divisões de treinamento e teste."
      ],
      "metadata": {
        "id": "btyioOVFp1GN"
      }
    },
    {
      "cell_type": "markdown",
      "source": [
        "Cada imagem tem 28 pixels de altura e 28 pixels de largura, para um total de 784 pixels no total.\n",
        "\n",
        "Cada pixel tem um único valor de pixel associado a ele, indicando a claridade ou escuridão daquele pixel, com números mais altos significando mais escuro. Este valor de pixel é um número inteiro entre 0 e 255.\n",
        "\n",
        "A primeira coluna é composta pelos rótulos das classes (veja acima), e representa a peça de vestuário.\n",
        "\n",
        "O restante contém os valores de pixel da imagem associada."
      ],
      "metadata": {
        "id": "BvGVlhUHriUo"
      }
    },
    {
      "cell_type": "markdown",
      "source": [
        "### Classificador de imagens usando rede neural"
      ],
      "metadata": {
        "id": "IhnfUIQ1eusd"
      }
    },
    {
      "cell_type": "code",
      "execution_count": 2,
      "metadata": {
        "id": "iZ_ajXCydf9R"
      },
      "outputs": [],
      "source": [
        "# importando as bibliotecas necessárias\n",
        "\n",
        "import pandas as pd\n",
        "import numpy as np\n",
        "%matplotlib inline\n",
        "import matplotlib as mpl\n",
        "import matplotlib.pyplot as plt\n",
        "\n",
        "import tensorflow as tf\n",
        "from tensorflow import keras\n",
        "from tensorflow.python.keras.layers import Dense, Flatten, Conv2D, Dropout, MaxPooling2D, BatchNormalization\n",
        "from tensorflow.python.keras.models import Sequential\n",
        "import pydot"
      ]
    },
    {
      "cell_type": "code",
      "source": [
        "# Verificando a versão do KERAS \n",
        "keras.__version__"
      ],
      "metadata": {
        "colab": {
          "base_uri": "https://localhost:8080/",
          "height": 0
        },
        "id": "DrNOat7YfKuz",
        "outputId": "f45588bc-32c7-4f6a-e4de-9dd25383f586"
      },
      "execution_count": 3,
      "outputs": [
        {
          "output_type": "execute_result",
          "data": {
            "application/vnd.google.colaboratory.intrinsic+json": {
              "type": "string"
            },
            "text/plain": [
              "'2.7.0'"
            ]
          },
          "metadata": {},
          "execution_count": 3
        }
      ]
    },
    {
      "cell_type": "code",
      "source": [
        "# Verificando a versão do Tensoflow \n",
        "tf.__version__"
      ],
      "metadata": {
        "colab": {
          "base_uri": "https://localhost:8080/",
          "height": 0
        },
        "id": "LMm8G17EfTsI",
        "outputId": "21e2db07-7926-4b7f-99af-c3599f95bf23"
      },
      "execution_count": 4,
      "outputs": [
        {
          "output_type": "execute_result",
          "data": {
            "application/vnd.google.colaboratory.intrinsic+json": {
              "type": "string"
            },
            "text/plain": [
              "'2.7.0'"
            ]
          },
          "metadata": {},
          "execution_count": 4
        }
      ]
    },
    {
      "cell_type": "code",
      "source": [
        "# Carregando a base de dados\n",
        "\n",
        "fashion_mnist = keras.datasets.fashion_mnist\n",
        "(x_train_full, y_train_full),(x_test, y_test) = fashion_mnist.load_data()"
      ],
      "metadata": {
        "id": "Kh0GnZTlftA0",
        "colab": {
          "base_uri": "https://localhost:8080/"
        },
        "outputId": "45fe1b67-2792-4923-b5d7-54944982a1c4"
      },
      "execution_count": 5,
      "outputs": [
        {
          "output_type": "stream",
          "name": "stdout",
          "text": [
            "Downloading data from https://storage.googleapis.com/tensorflow/tf-keras-datasets/train-labels-idx1-ubyte.gz\n",
            "32768/29515 [=================================] - 0s 0us/step\n",
            "40960/29515 [=========================================] - 0s 0us/step\n",
            "Downloading data from https://storage.googleapis.com/tensorflow/tf-keras-datasets/train-images-idx3-ubyte.gz\n",
            "26427392/26421880 [==============================] - 1s 0us/step\n",
            "26435584/26421880 [==============================] - 1s 0us/step\n",
            "Downloading data from https://storage.googleapis.com/tensorflow/tf-keras-datasets/t10k-labels-idx1-ubyte.gz\n",
            "16384/5148 [===============================================================================================] - 0s 0us/step\n",
            "Downloading data from https://storage.googleapis.com/tensorflow/tf-keras-datasets/t10k-images-idx3-ubyte.gz\n",
            "4423680/4422102 [==============================] - 0s 0us/step\n",
            "4431872/4422102 [==============================] - 0s 0us/step\n"
          ]
        }
      ]
    },
    {
      "cell_type": "markdown",
      "source": [
        "A dimensão do treinamento original, conjunto de teste são os seguintes:"
      ],
      "metadata": {
        "id": "JjGZAb53spbr"
      }
    },
    {
      "cell_type": "code",
      "source": [
        "print(\"x_train = \",x_train_full.shape,\"y_train = \",y_train_full.shape,\"x_test = \",x_test.shape,\"y_test = \",y_test.shape)"
      ],
      "metadata": {
        "colab": {
          "base_uri": "https://localhost:8080/"
        },
        "id": "FStyHQxif1CD",
        "outputId": "6739e1f8-8334-4b50-8f06-b1ae93d94d1f"
      },
      "execution_count": 6,
      "outputs": [
        {
          "output_type": "stream",
          "name": "stdout",
          "text": [
            "x_train =  (60000, 28, 28) y_train =  (60000,) x_test =  (10000, 28, 28) y_test =  (10000,)\n"
          ]
        }
      ]
    },
    {
      "cell_type": "code",
      "source": [
        "plt.imshow(x_train_full[30])"
      ],
      "metadata": {
        "colab": {
          "base_uri": "https://localhost:8080/",
          "height": 0
        },
        "id": "6cj-XH_Sf7fH",
        "outputId": "d0b21097-8bdd-4bbe-9317-7c2e72cd3ee3"
      },
      "execution_count": 7,
      "outputs": [
        {
          "output_type": "execute_result",
          "data": {
            "text/plain": [
              "<matplotlib.image.AxesImage at 0x7fd69d957290>"
            ]
          },
          "metadata": {},
          "execution_count": 7
        },
        {
          "output_type": "display_data",
          "data": {
            "image/png": "[encoded data removed]",
            "text/plain": [
              "<Figure size 432x288 with 1 Axes>"
            ]
          },
          "metadata": {
            "needs_background": "light"
          }
        }
      ]
    },
    {
      "cell_type": "code",
      "source": [
        "y_train_full[30]"
      ],
      "metadata": {
        "colab": {
          "base_uri": "https://localhost:8080/"
        },
        "id": "0SiAn1BCf-u4",
        "outputId": "e2eba416-d4fa-4d4f-d8ef-65189fbd1854"
      },
      "execution_count": 8,
      "outputs": [
        {
          "output_type": "execute_result",
          "data": {
            "text/plain": [
              "5"
            ]
          },
          "metadata": {},
          "execution_count": 8
        }
      ]
    },
    {
      "cell_type": "markdown",
      "source": [
        "Existem 10 classes diferentes de imagens, segue:"
      ],
      "metadata": {
        "id": "orWxcRJzsWdD"
      }
    },
    {
      "cell_type": "code",
      "source": [
        "class_names = [\"T-shirt/Top\",\"Trouser\",\"Pullover\",\"Dress\",\"Coat\",\n",
        "              \"Sandal\",\"Shirt\",\"Sneaker\",\"Bag\",\"Ankle boot\"]"
      ],
      "metadata": {
        "id": "H5B1Bnn6gA84"
      },
      "execution_count": 9,
      "outputs": []
    },
    {
      "cell_type": "code",
      "source": [
        "class_names[y_train_full[30]]"
      ],
      "metadata": {
        "colab": {
          "base_uri": "https://localhost:8080/",
          "height": 0
        },
        "id": "Q9OeLn21gDek",
        "outputId": "1f7d7072-ed40-48af-d539-6c383ffdc025"
      },
      "execution_count": 10,
      "outputs": [
        {
          "output_type": "execute_result",
          "data": {
            "application/vnd.google.colaboratory.intrinsic+json": {
              "type": "string"
            },
            "text/plain": [
              "'Sandal'"
            ]
          },
          "metadata": {},
          "execution_count": 10
        }
      ]
    },
    {
      "cell_type": "code",
      "source": [
        "x_train_full[1]"
      ],
      "metadata": {
        "colab": {
          "base_uri": "https://localhost:8080/"
        },
        "id": "ZFIfv2ZvgFc5",
        "outputId": "c873763c-f7fe-426c-a441-de64e256056a"
      },
      "execution_count": 11,
      "outputs": [
        {
          "output_type": "execute_result",
          "data": {
            "text/plain": [
              "array([[  0,   0,   0,   0,   0,   1,   0,   0,   0,   0,  41, 188, 103,\n",
              "         54,  48,  43,  87, 168, 133,  16,   0,   0,   0,   0,   0,   0,\n",
              "          0,   0],\n",
              "       [  0,   0,   0,   1,   0,   0,   0,  49, 136, 219, 216, 228, 236,\n",
              "        255, 255, 255, 255, 217, 215, 254, 231, 160,  45,   0,   0,   0,\n",
              "          0,   0],\n",
              "       [  0,   0,   0,   0,   0,  14, 176, 222, 224, 212, 203, 198, 196,\n",
              "        200, 215, 204, 202, 201, 201, 201, 209, 218, 224, 164,   0,   0,\n",
              "          0,   0],\n",
              "       [  0,   0,   0,   0,   0, 188, 219, 200, 198, 202, 198, 199, 199,\n",
              "        201, 196, 198, 198, 200, 200, 200, 200, 201, 200, 225,  41,   0,\n",
              "          0,   0],\n",
              "       [  0,   0,   0,   0,  51, 219, 199, 203, 203, 212, 238, 248, 250,\n",
              "        245, 249, 246, 247, 252, 248, 235, 207, 203, 203, 222, 140,   0,\n",
              "          0,   0],\n",
              "       [  0,   0,   0,   0, 116, 226, 206, 204, 207, 204, 101,  75,  47,\n",
              "         73,  48,  50,  45,  51,  63, 113, 222, 202, 206, 220, 224,   0,\n",
              "          0,   0],\n",
              "       [  0,   0,   0,   0, 200, 222, 209, 203, 215, 200,   0,  70,  98,\n",
              "          0, 103,  59,  68,  71,  49,   0, 219, 206, 214, 210, 250,  38,\n",
              "          0,   0],\n",
              "       [  0,   0,   0,   0, 247, 218, 212, 210, 215, 214,   0, 254, 243,\n",
              "        139, 255, 174, 251, 255, 205,   0, 215, 217, 214, 208, 220,  95,\n",
              "          0,   0],\n",
              "       [  0,   0,   0,  45, 226, 214, 214, 215, 224, 205,   0,  42,  35,\n",
              "         60,  16,  17,  12,  13,  70,   0, 189, 216, 212, 206, 212, 156,\n",
              "          0,   0],\n",
              "       [  0,   0,   0, 164, 235, 214, 211, 220, 216, 201,  52,  71,  89,\n",
              "         94,  83,  78,  70,  76,  92,  87, 206, 207, 222, 213, 219, 208,\n",
              "          0,   0],\n",
              "       [  0,   0,   0, 106, 187, 223, 237, 248, 211, 198, 252, 250, 248,\n",
              "        245, 248, 252, 253, 250, 252, 239, 201, 212, 225, 215, 193, 113,\n",
              "          0,   0],\n",
              "       [  0,   0,   0,   0,   0,  17,  54, 159, 222, 193, 208, 192, 197,\n",
              "        200, 200, 200, 200, 201, 203, 195, 210, 165,   0,   0,   0,   0,\n",
              "          0,   0],\n",
              "       [  0,   0,   0,   0,   0,   0,   0,  47, 225, 192, 214, 203, 206,\n",
              "        204, 204, 205, 206, 204, 212, 197, 218, 107,   0,   0,   0,   0,\n",
              "          0,   0],\n",
              "       [  0,   0,   0,   0,   1,   6,   0,  46, 212, 195, 212, 202, 206,\n",
              "        205, 204, 205, 206, 204, 212, 200, 218,  91,   0,   3,   1,   0,\n",
              "          0,   0],\n",
              "       [  0,   0,   0,   0,   0,   1,   0,  11, 197, 199, 205, 202, 205,\n",
              "        206, 204, 205, 207, 204, 205, 205, 218,  77,   0,   5,   0,   0,\n",
              "          0,   0],\n",
              "       [  0,   0,   0,   0,   0,   3,   0,   2, 191, 198, 201, 205, 206,\n",
              "        205, 205, 206, 209, 206, 199, 209, 219,  74,   0,   5,   0,   0,\n",
              "          0,   0],\n",
              "       [  0,   0,   0,   0,   0,   2,   0,   0, 188, 197, 200, 207, 207,\n",
              "        204, 207, 207, 210, 208, 198, 207, 221,  72,   0,   4,   0,   0,\n",
              "          0,   0],\n",
              "       [  0,   0,   0,   0,   0,   2,   0,   0, 215, 198, 203, 206, 208,\n",
              "        205, 207, 207, 210, 208, 200, 202, 222,  75,   0,   4,   0,   0,\n",
              "          0,   0],\n",
              "       [  0,   0,   0,   0,   0,   1,   0,   0, 212, 198, 209, 206, 209,\n",
              "        206, 208, 207, 211, 206, 205, 198, 221,  80,   0,   3,   0,   0,\n",
              "          0,   0],\n",
              "       [  0,   0,   0,   0,   0,   1,   0,   0, 204, 201, 205, 208, 207,\n",
              "        205, 211, 205, 210, 210, 209, 195, 221,  96,   0,   3,   0,   0,\n",
              "          0,   0],\n",
              "       [  0,   0,   0,   0,   0,   1,   0,   0, 202, 201, 205, 209, 207,\n",
              "        205, 213, 206, 210, 209, 210, 194, 217, 105,   0,   2,   0,   0,\n",
              "          0,   0],\n",
              "       [  0,   0,   0,   0,   0,   1,   0,   0, 204, 204, 205, 208, 207,\n",
              "        205, 215, 207, 210, 208, 211, 193, 213, 115,   0,   2,   0,   0,\n",
              "          0,   0],\n",
              "       [  0,   0,   0,   0,   0,   0,   0,   0, 204, 207, 207, 208, 206,\n",
              "        206, 215, 210, 210, 207, 212, 195, 210, 118,   0,   2,   0,   0,\n",
              "          0,   0],\n",
              "       [  0,   0,   0,   0,   0,   1,   0,   0, 198, 208, 208, 208, 204,\n",
              "        207, 212, 212, 210, 207, 211, 196, 207, 121,   0,   1,   0,   0,\n",
              "          0,   0],\n",
              "       [  0,   0,   0,   0,   0,   1,   0,   0, 198, 210, 207, 208, 206,\n",
              "        209, 213, 212, 211, 207, 210, 197, 207, 124,   0,   1,   0,   0,\n",
              "          0,   0],\n",
              "       [  0,   0,   0,   0,   0,   0,   0,   0, 172, 210, 203, 201, 199,\n",
              "        204, 207, 205, 204, 201, 205, 197, 206, 127,   0,   0,   0,   0,\n",
              "          0,   0],\n",
              "       [  0,   0,   0,   0,   0,   0,   0,   0, 188, 221, 214, 234, 236,\n",
              "        238, 244, 244, 244, 240, 243, 214, 224, 162,   0,   2,   0,   0,\n",
              "          0,   0],\n",
              "       [  0,   0,   0,   0,   0,   1,   0,   0, 139, 146, 130, 135, 135,\n",
              "        137, 125, 124, 125, 121, 119, 114, 130,  76,   0,   0,   0,   0,\n",
              "          0,   0]], dtype=uint8)"
            ]
          },
          "metadata": {},
          "execution_count": 11
        }
      ]
    },
    {
      "cell_type": "markdown",
      "source": [
        "### NORMALIZAÇÃO DE DADOS"
      ],
      "metadata": {
        "id": "j8KLF7KagKBP"
      }
    },
    {
      "cell_type": "code",
      "source": [
        "x_train_n = x_train_full/255.\n",
        "x_test_n = x_test/255."
      ],
      "metadata": {
        "id": "XgkrwrTlgL8p"
      },
      "execution_count": 12,
      "outputs": []
    },
    {
      "cell_type": "markdown",
      "source": [
        "Visualização dos dados"
      ],
      "metadata": {
        "id": "GAOeD1ttnbiP"
      }
    },
    {
      "cell_type": "code",
      "source": [
        "fig, axs = plt.subplots(1,4, figsize=(20, 10))\n",
        "for ax, i in zip(axs, range(6)):\n",
        "    ax.imshow(x_train_n[i])\n",
        "    ax.grid(True)\n",
        "\n",
        "plt.show()"
      ],
      "metadata": {
        "colab": {
          "base_uri": "https://localhost:8080/",
          "height": 0
        },
        "id": "jYkyspVunbEE",
        "outputId": "69ddd0eb-310c-426f-f4be-8fdbbd70bd09"
      },
      "execution_count": 13,
      "outputs": [
        {
          "output_type": "display_data",
          "data": {
            "image/png": "[encoded data removed]",
            "text/plain": [
              "<Figure size 1440x720 with 4 Axes>"
            ]
          },
          "metadata": {
            "needs_background": "light"
          }
        }
      ]
    },
    {
      "cell_type": "markdown",
      "source": [
        "Dividindo os dados em conjuntos de treinamento/validação/teste\n",
        "\n",
        "\n",
        "*   Dados de treinamento = usado para treinar o modelo\n",
        "*   Dados de validação = usado para ajustar os hiperparâmetros e avaliar o modelo\n",
        "*   Dados de teste = usado para testar o modelo após o modelo ter passado pela verificação inicial do conjunto de validação\n",
        "\n"
      ],
      "metadata": {
        "id": "2H3oEYRDgfct"
      }
    },
    {
      "cell_type": "code",
      "source": [
        "x_valid, x_train = x_train_n[:5000],x_train_n[5000:]\n",
        "y_valid, y_train = y_train_full[:5000],y_train_full[5000:]\n",
        "x_test = x_test_n"
      ],
      "metadata": {
        "id": "_D1qAnMPghVi"
      },
      "execution_count": 14,
      "outputs": []
    },
    {
      "cell_type": "code",
      "source": [
        "unique, counts = np.unique(x_test, return_counts=True)\n",
        "df = pd.Series(zip(unique, counts))\n",
        "print(df)\n",
        "# Todos os tipos de roupas que têm a mesma contagem presente no conjunto de dados"
      ],
      "metadata": {
        "colab": {
          "base_uri": "https://localhost:8080/"
        },
        "id": "v-TIjycsn4s_",
        "outputId": "637ac056-2ab2-4da7-ddd9-a8468cbd4747"
      },
      "execution_count": 15,
      "outputs": [
        {
          "output_type": "stream",
          "name": "stdout",
          "text": [
            "0                     (0.0, 3919183)\n",
            "1       (0.00392156862745098, 79560)\n",
            "2       (0.00784313725490196, 48331)\n",
            "3      (0.011764705882352941, 32159)\n",
            "4       (0.01568627450980392, 22181)\n",
            "                   ...              \n",
            "251        (0.984313725490196, 6953)\n",
            "252       (0.9882352941176471, 7414)\n",
            "253       (0.9921568627450981, 8451)\n",
            "254       (0.996078431372549, 11069)\n",
            "255                     (1.0, 62787)\n",
            "Length: 256, dtype: object\n"
          ]
        }
      ]
    },
    {
      "cell_type": "code",
      "source": [
        "y_valid"
      ],
      "metadata": {
        "colab": {
          "base_uri": "https://localhost:8080/"
        },
        "id": "xJfptCaShfN7",
        "outputId": "6e8c6c11-d55d-439f-cb70-0407c0349e32"
      },
      "execution_count": 16,
      "outputs": [
        {
          "output_type": "execute_result",
          "data": {
            "text/plain": [
              "array([9, 0, 0, ..., 5, 8, 3], dtype=uint8)"
            ]
          },
          "metadata": {},
          "execution_count": 16
        }
      ]
    },
    {
      "cell_type": "code",
      "source": [
        "x_valid[0]"
      ],
      "metadata": {
        "colab": {
          "base_uri": "https://localhost:8080/"
        },
        "id": "V-3jpcD_hhZt",
        "outputId": "a83f9051-c149-45ed-a617-8d0ce8cd659e"
      },
      "execution_count": 17,
      "outputs": [
        {
          "output_type": "execute_result",
          "data": {
            "text/plain": [
              "array([[0.        , 0.        , 0.        , 0.        , 0.        ,\n",
              "        0.        , 0.        , 0.        , 0.        , 0.        ,\n",
              "        0.        , 0.        , 0.        , 0.        , 0.        ,\n",
              "        0.        , 0.        , 0.        , 0.        , 0.        ,\n",
              "        0.        , 0.        , 0.        , 0.        , 0.        ,\n",
              "        0.        , 0.        , 0.        ],\n",
              "       [0.        , 0.        , 0.        , 0.        , 0.        ,\n",
              "        0.        , 0.        , 0.        , 0.        , 0.        ,\n",
              "        0.        , 0.        , 0.        , 0.        , 0.        ,\n",
              "        0.        , 0.        , 0.        , 0.        , 0.        ,\n",
              "        0.        , 0.        , 0.        , 0.        , 0.        ,\n",
              "        0.        , 0.        , 0.        ],\n",
              "       [0.        , 0.        , 0.        , 0.        , 0.        ,\n",
              "        0.        , 0.        , 0.        , 0.        , 0.        ,\n",
              "        0.        , 0.        , 0.        , 0.        , 0.        ,\n",
              "        0.        , 0.        , 0.        , 0.        , 0.        ,\n",
              "        0.        , 0.        , 0.        , 0.        , 0.        ,\n",
              "        0.        , 0.        , 0.        ],\n",
              "       [0.        , 0.        , 0.        , 0.        , 0.        ,\n",
              "        0.        , 0.        , 0.        , 0.        , 0.        ,\n",
              "        0.        , 0.        , 0.00392157, 0.        , 0.        ,\n",
              "        0.05098039, 0.28627451, 0.        , 0.        , 0.00392157,\n",
              "        0.01568627, 0.        , 0.        , 0.        , 0.        ,\n",
              "        0.00392157, 0.00392157, 0.        ],\n",
              "       [0.        , 0.        , 0.        , 0.        , 0.        ,\n",
              "        0.        , 0.        , 0.        , 0.        , 0.        ,\n",
              "        0.        , 0.        , 0.01176471, 0.        , 0.14117647,\n",
              "        0.53333333, 0.49803922, 0.24313725, 0.21176471, 0.        ,\n",
              "        0.        , 0.        , 0.00392157, 0.01176471, 0.01568627,\n",
              "        0.        , 0.        , 0.01176471],\n",
              "       [0.        , 0.        , 0.        , 0.        , 0.        ,\n",
              "        0.        , 0.        , 0.        , 0.        , 0.        ,\n",
              "        0.        , 0.        , 0.02352941, 0.        , 0.4       ,\n",
              "        0.8       , 0.69019608, 0.5254902 , 0.56470588, 0.48235294,\n",
              "        0.09019608, 0.        , 0.        , 0.        , 0.        ,\n",
              "        0.04705882, 0.03921569, 0.        ],\n",
              "       [0.        , 0.        , 0.        , 0.        , 0.        ,\n",
              "        0.        , 0.        , 0.        , 0.        , 0.        ,\n",
              "        0.        , 0.        , 0.        , 0.        , 0.60784314,\n",
              "        0.9254902 , 0.81176471, 0.69803922, 0.41960784, 0.61176471,\n",
              "        0.63137255, 0.42745098, 0.25098039, 0.09019608, 0.30196078,\n",
              "        0.50980392, 0.28235294, 0.05882353],\n",
              "       [0.        , 0.        , 0.        , 0.        , 0.        ,\n",
              "        0.        , 0.        , 0.        , 0.        , 0.        ,\n",
              "        0.        , 0.00392157, 0.        , 0.27058824, 0.81176471,\n",
              "        0.8745098 , 0.85490196, 0.84705882, 0.84705882, 0.63921569,\n",
              "        0.49803922, 0.4745098 , 0.47843137, 0.57254902, 0.55294118,\n",
              "        0.34509804, 0.6745098 , 0.25882353],\n",
              "       [0.        , 0.        , 0.        , 0.        , 0.        ,\n",
              "        0.        , 0.        , 0.        , 0.        , 0.00392157,\n",
              "        0.00392157, 0.00392157, 0.        , 0.78431373, 0.90980392,\n",
              "        0.90980392, 0.91372549, 0.89803922, 0.8745098 , 0.8745098 ,\n",
              "        0.84313725, 0.83529412, 0.64313725, 0.49803922, 0.48235294,\n",
              "        0.76862745, 0.89803922, 0.        ],\n",
              "       [0.        , 0.        , 0.        , 0.        , 0.        ,\n",
              "        0.        , 0.        , 0.        , 0.        , 0.        ,\n",
              "        0.        , 0.        , 0.        , 0.71764706, 0.88235294,\n",
              "        0.84705882, 0.8745098 , 0.89411765, 0.92156863, 0.89019608,\n",
              "        0.87843137, 0.87058824, 0.87843137, 0.86666667, 0.8745098 ,\n",
              "        0.96078431, 0.67843137, 0.        ],\n",
              "       [0.        , 0.        , 0.        , 0.        , 0.        ,\n",
              "        0.        , 0.        , 0.        , 0.        , 0.        ,\n",
              "        0.        , 0.        , 0.        , 0.75686275, 0.89411765,\n",
              "        0.85490196, 0.83529412, 0.77647059, 0.70588235, 0.83137255,\n",
              "        0.82352941, 0.82745098, 0.83529412, 0.8745098 , 0.8627451 ,\n",
              "        0.95294118, 0.79215686, 0.        ],\n",
              "       [0.        , 0.        , 0.        , 0.        , 0.        ,\n",
              "        0.        , 0.        , 0.        , 0.        , 0.00392157,\n",
              "        0.01176471, 0.        , 0.04705882, 0.85882353, 0.8627451 ,\n",
              "        0.83137255, 0.85490196, 0.75294118, 0.6627451 , 0.89019608,\n",
              "        0.81568627, 0.85490196, 0.87843137, 0.83137255, 0.88627451,\n",
              "        0.77254902, 0.81960784, 0.20392157],\n",
              "       [0.        , 0.        , 0.        , 0.        , 0.        ,\n",
              "        0.        , 0.        , 0.        , 0.        , 0.        ,\n",
              "        0.02352941, 0.        , 0.38823529, 0.95686275, 0.87058824,\n",
              "        0.8627451 , 0.85490196, 0.79607843, 0.77647059, 0.86666667,\n",
              "        0.84313725, 0.83529412, 0.87058824, 0.8627451 , 0.96078431,\n",
              "        0.46666667, 0.65490196, 0.21960784],\n",
              "       [0.        , 0.        , 0.        , 0.        , 0.        ,\n",
              "        0.        , 0.        , 0.        , 0.        , 0.01568627,\n",
              "        0.        , 0.        , 0.21568627, 0.9254902 , 0.89411765,\n",
              "        0.90196078, 0.89411765, 0.94117647, 0.90980392, 0.83529412,\n",
              "        0.85490196, 0.8745098 , 0.91764706, 0.85098039, 0.85098039,\n",
              "        0.81960784, 0.36078431, 0.        ],\n",
              "       [0.        , 0.        , 0.00392157, 0.01568627, 0.02352941,\n",
              "        0.02745098, 0.00784314, 0.        , 0.        , 0.        ,\n",
              "        0.        , 0.        , 0.92941176, 0.88627451, 0.85098039,\n",
              "        0.8745098 , 0.87058824, 0.85882353, 0.87058824, 0.86666667,\n",
              "        0.84705882, 0.8745098 , 0.89803922, 0.84313725, 0.85490196,\n",
              "        1.        , 0.30196078, 0.        ],\n",
              "       [0.        , 0.01176471, 0.        , 0.        , 0.        ,\n",
              "        0.        , 0.        , 0.        , 0.        , 0.24313725,\n",
              "        0.56862745, 0.8       , 0.89411765, 0.81176471, 0.83529412,\n",
              "        0.86666667, 0.85490196, 0.81568627, 0.82745098, 0.85490196,\n",
              "        0.87843137, 0.8745098 , 0.85882353, 0.84313725, 0.87843137,\n",
              "        0.95686275, 0.62352941, 0.        ],\n",
              "       [0.        , 0.        , 0.        , 0.        , 0.07058824,\n",
              "        0.17254902, 0.32156863, 0.41960784, 0.74117647, 0.89411765,\n",
              "        0.8627451 , 0.87058824, 0.85098039, 0.88627451, 0.78431373,\n",
              "        0.80392157, 0.82745098, 0.90196078, 0.87843137, 0.91764706,\n",
              "        0.69019608, 0.7372549 , 0.98039216, 0.97254902, 0.91372549,\n",
              "        0.93333333, 0.84313725, 0.        ],\n",
              "       [0.        , 0.22352941, 0.73333333, 0.81568627, 0.87843137,\n",
              "        0.86666667, 0.87843137, 0.81568627, 0.8       , 0.83921569,\n",
              "        0.81568627, 0.81960784, 0.78431373, 0.62352941, 0.96078431,\n",
              "        0.75686275, 0.80784314, 0.8745098 , 1.        , 1.        ,\n",
              "        0.86666667, 0.91764706, 0.86666667, 0.82745098, 0.8627451 ,\n",
              "        0.90980392, 0.96470588, 0.        ],\n",
              "       [0.01176471, 0.79215686, 0.89411765, 0.87843137, 0.86666667,\n",
              "        0.82745098, 0.82745098, 0.83921569, 0.80392157, 0.80392157,\n",
              "        0.80392157, 0.8627451 , 0.94117647, 0.31372549, 0.58823529,\n",
              "        1.        , 0.89803922, 0.86666667, 0.7372549 , 0.60392157,\n",
              "        0.74901961, 0.82352941, 0.8       , 0.81960784, 0.87058824,\n",
              "        0.89411765, 0.88235294, 0.        ],\n",
              "       [0.38431373, 0.91372549, 0.77647059, 0.82352941, 0.87058824,\n",
              "        0.89803922, 0.89803922, 0.91764706, 0.97647059, 0.8627451 ,\n",
              "        0.76078431, 0.84313725, 0.85098039, 0.94509804, 0.25490196,\n",
              "        0.28627451, 0.41568627, 0.45882353, 0.65882353, 0.85882353,\n",
              "        0.86666667, 0.84313725, 0.85098039, 0.8745098 , 0.8745098 ,\n",
              "        0.87843137, 0.89803922, 0.11372549],\n",
              "       [0.29411765, 0.8       , 0.83137255, 0.8       , 0.75686275,\n",
              "        0.80392157, 0.82745098, 0.88235294, 0.84705882, 0.7254902 ,\n",
              "        0.77254902, 0.80784314, 0.77647059, 0.83529412, 0.94117647,\n",
              "        0.76470588, 0.89019608, 0.96078431, 0.9372549 , 0.8745098 ,\n",
              "        0.85490196, 0.83137255, 0.81960784, 0.87058824, 0.8627451 ,\n",
              "        0.86666667, 0.90196078, 0.2627451 ],\n",
              "       [0.18823529, 0.79607843, 0.71764706, 0.76078431, 0.83529412,\n",
              "        0.77254902, 0.7254902 , 0.74509804, 0.76078431, 0.75294118,\n",
              "        0.79215686, 0.83921569, 0.85882353, 0.86666667, 0.8627451 ,\n",
              "        0.9254902 , 0.88235294, 0.84705882, 0.78039216, 0.80784314,\n",
              "        0.72941176, 0.70980392, 0.69411765, 0.6745098 , 0.70980392,\n",
              "        0.80392157, 0.80784314, 0.45098039],\n",
              "       [0.        , 0.47843137, 0.85882353, 0.75686275, 0.70196078,\n",
              "        0.67058824, 0.71764706, 0.76862745, 0.8       , 0.82352941,\n",
              "        0.83529412, 0.81176471, 0.82745098, 0.82352941, 0.78431373,\n",
              "        0.76862745, 0.76078431, 0.74901961, 0.76470588, 0.74901961,\n",
              "        0.77647059, 0.75294118, 0.69019608, 0.61176471, 0.65490196,\n",
              "        0.69411765, 0.82352941, 0.36078431],\n",
              "       [0.        , 0.        , 0.29019608, 0.74117647, 0.83137255,\n",
              "        0.74901961, 0.68627451, 0.6745098 , 0.68627451, 0.70980392,\n",
              "        0.7254902 , 0.7372549 , 0.74117647, 0.7372549 , 0.75686275,\n",
              "        0.77647059, 0.8       , 0.81960784, 0.82352941, 0.82352941,\n",
              "        0.82745098, 0.7372549 , 0.7372549 , 0.76078431, 0.75294118,\n",
              "        0.84705882, 0.66666667, 0.        ],\n",
              "       [0.00784314, 0.        , 0.        , 0.        , 0.25882353,\n",
              "        0.78431373, 0.87058824, 0.92941176, 0.9372549 , 0.94901961,\n",
              "        0.96470588, 0.95294118, 0.95686275, 0.86666667, 0.8627451 ,\n",
              "        0.75686275, 0.74901961, 0.70196078, 0.71372549, 0.71372549,\n",
              "        0.70980392, 0.69019608, 0.65098039, 0.65882353, 0.38823529,\n",
              "        0.22745098, 0.        , 0.        ],\n",
              "       [0.        , 0.        , 0.        , 0.        , 0.        ,\n",
              "        0.        , 0.        , 0.15686275, 0.23921569, 0.17254902,\n",
              "        0.28235294, 0.16078431, 0.1372549 , 0.        , 0.        ,\n",
              "        0.        , 0.        , 0.        , 0.        , 0.        ,\n",
              "        0.        , 0.        , 0.        , 0.        , 0.        ,\n",
              "        0.        , 0.        , 0.        ],\n",
              "       [0.        , 0.        , 0.        , 0.        , 0.        ,\n",
              "        0.        , 0.        , 0.        , 0.        , 0.        ,\n",
              "        0.        , 0.        , 0.        , 0.        , 0.        ,\n",
              "        0.        , 0.        , 0.        , 0.        , 0.        ,\n",
              "        0.        , 0.        , 0.        , 0.        , 0.        ,\n",
              "        0.        , 0.        , 0.        ],\n",
              "       [0.        , 0.        , 0.        , 0.        , 0.        ,\n",
              "        0.        , 0.        , 0.        , 0.        , 0.        ,\n",
              "        0.        , 0.        , 0.        , 0.        , 0.        ,\n",
              "        0.        , 0.        , 0.        , 0.        , 0.        ,\n",
              "        0.        , 0.        , 0.        , 0.        , 0.        ,\n",
              "        0.        , 0.        , 0.        ]])"
            ]
          },
          "metadata": {},
          "execution_count": 17
        }
      ]
    },
    {
      "cell_type": "markdown",
      "source": [
        "### CRIANDO A ARQUITETURA MODELO"
      ],
      "metadata": {
        "id": "mSAQiuNRho93"
      }
    },
    {
      "cell_type": "markdown",
      "source": [
        "1. API DE MODELO SEQUENCIAL (SIMPLES E DIRETO)\n",
        "2. API FUNCIONAL (NN COMPLEXO)"
      ],
      "metadata": {
        "id": "9cBrm5FNhy_y"
      }
    },
    {
      "cell_type": "code",
      "source": [
        "np.random.seed(42) # random seed é usado para replicar sempre o mesmo resultado\n",
        "tf.random.set_seed(42)"
      ],
      "metadata": {
        "id": "PMX_gGduhsx1"
      },
      "execution_count": 18,
      "outputs": []
    },
    {
      "cell_type": "markdown",
      "source": [
        "**Construir o modelo**"
      ],
      "metadata": {
        "id": "-1FD_wASy17P"
      }
    },
    {
      "cell_type": "markdown",
      "source": [
        "Usaremos um modelo Sequencial.\n",
        "\n",
        "O modelo Sequencial é uma pilha linear de camadas. Ele pode ser inicializado primeiro e, em seguida, adicionamos camadas usando o método add ou podemos adicionar todas as camadas no estágio de inicialização. As camadas adicionadas são as seguintes:"
      ],
      "metadata": {
        "id": "GpwpkxfcysBF"
      }
    },
    {
      "cell_type": "code",
      "source": [
        "model = keras.models.Sequential() # USANDO API SEQUENCIAL\n",
        "model.add(keras.layers.Flatten(input_shape=[28,28])) # camada de entrada, convertendo 2D para 28*28 pixels usando flatten\n",
        "model.add(keras.layers.Dense(300,activation=\"relu\")) # 1ª camada oculta, 300=não de neurônios, relu = função de ativação\n",
        "model.add(keras.layers.Dense(100,activation=\"relu\")) # 2ª camada oculta\n",
        "model.add(keras.layers.Dense(10,activation=\"softmax\")) # camada de saída, categorias=10\n",
        "# relu = 0 para todos os números negativos ou relu = saída para os números positivos"
      ],
      "metadata": {
        "id": "_o-4us0JiYhJ"
      },
      "execution_count": 19,
      "outputs": []
    },
    {
      "cell_type": "markdown",
      "source": [
        "**Inspecionando o modelo**\n",
        "\n",
        "Vamos verificar o modelo que inicializamos"
      ],
      "metadata": {
        "id": "3TmuLqjlzF9S"
      }
    },
    {
      "cell_type": "code",
      "source": [
        "model.summary()\n",
        "# parâmetros\n",
        "# dense = 784*300+300 = 235500\n",
        "# dense_1 = 300*100+100 = 30100\n",
        "# dense_2 = 100*10+10 = 1010\n",
        "# none  = sem limite nos dados de entrada"
      ],
      "metadata": {
        "colab": {
          "base_uri": "https://localhost:8080/"
        },
        "id": "81Pqdt_oi3Xl",
        "outputId": "1fa2eba5-8968-4bcf-d0be-b9fc77c34fd9"
      },
      "execution_count": 20,
      "outputs": [
        {
          "output_type": "stream",
          "name": "stdout",
          "text": [
            "Model: \"sequential\"\n",
            "_________________________________________________________________\n",
            " Layer (type)                Output Shape              Param #   \n",
            "=================================================================\n",
            " flatten (Flatten)           (None, 784)               0         \n",
            "                                                                 \n",
            " dense (Dense)               (None, 300)               235500    \n",
            "                                                                 \n",
            " dense_1 (Dense)             (None, 100)               30100     \n",
            "                                                                 \n",
            " dense_2 (Dense)             (None, 10)                1010      \n",
            "                                                                 \n",
            "=================================================================\n",
            "Total params: 266,610\n",
            "Trainable params: 266,610\n",
            "Non-trainable params: 0\n",
            "_________________________________________________________________\n"
          ]
        }
      ]
    },
    {
      "cell_type": "markdown",
      "source": [
        "Visualizando a estrutura da rede neural (usando pydot)"
      ],
      "metadata": {
        "id": "20jM58XyjL54"
      }
    },
    {
      "cell_type": "code",
      "source": [
        "keras.utils.plot_model(model)"
      ],
      "metadata": {
        "colab": {
          "base_uri": "https://localhost:8080/",
          "height": 466
        },
        "id": "2yoPoqthjVYL",
        "outputId": "a49e5549-2a02-4bf9-9975-e813f29b489c"
      },
      "execution_count": 21,
      "outputs": [
        {
          "output_type": "execute_result",
          "data": {
            "image/png": "[encoded data removed]",
            "text/plain": [
              "<IPython.core.display.Image object>"
            ]
          },
          "metadata": {},
          "execution_count": 21
        }
      ]
    },
    {
      "cell_type": "code",
      "source": [
        "weights, biases = model.layers[1].get_weights()"
      ],
      "metadata": {
        "id": "ZgOrmAJDjYGZ"
      },
      "execution_count": 22,
      "outputs": []
    },
    {
      "cell_type": "code",
      "source": [
        "weights"
      ],
      "metadata": {
        "colab": {
          "base_uri": "https://localhost:8080/"
        },
        "id": "ngTKSXMhjaIp",
        "outputId": "c2467d82-9b23-46c7-8ed4-3bdcd429287d"
      },
      "execution_count": 23,
      "outputs": [
        {
          "output_type": "execute_result",
          "data": {
            "text/plain": [
              "array([[ 0.02448617, -0.00877795, -0.02189048, ..., -0.02766046,\n",
              "         0.03859074, -0.06889391],\n",
              "       [ 0.00476504, -0.03105379, -0.0586676 , ...,  0.00602964,\n",
              "        -0.02763776, -0.04165364],\n",
              "       [-0.06189284, -0.06901957,  0.07102345, ..., -0.04238207,\n",
              "         0.07121518, -0.07331658],\n",
              "       ...,\n",
              "       [-0.03048757,  0.02155137, -0.05400612, ..., -0.00113463,\n",
              "         0.00228987,  0.05581069],\n",
              "       [ 0.07061854, -0.06960931,  0.07038955, ..., -0.00384101,\n",
              "         0.00034875,  0.02878492],\n",
              "       [-0.06022581,  0.01577859, -0.02585464, ..., -0.00527829,\n",
              "         0.00272203, -0.06793761]], dtype=float32)"
            ]
          },
          "metadata": {},
          "execution_count": 23
        }
      ]
    },
    {
      "cell_type": "code",
      "source": [
        "weights.shape"
      ],
      "metadata": {
        "colab": {
          "base_uri": "https://localhost:8080/"
        },
        "id": "KSeqdoVVjcnI",
        "outputId": "5cbc77ec-4be3-4668-ddaf-98ef14920321"
      },
      "execution_count": 24,
      "outputs": [
        {
          "output_type": "execute_result",
          "data": {
            "text/plain": [
              "(784, 300)"
            ]
          },
          "metadata": {},
          "execution_count": 24
        }
      ]
    },
    {
      "cell_type": "code",
      "source": [
        "biases"
      ],
      "metadata": {
        "colab": {
          "base_uri": "https://localhost:8080/"
        },
        "id": "CRTU43PLje6o",
        "outputId": "39ff1561-a1e3-4d48-8c90-8993adb2059f"
      },
      "execution_count": 25,
      "outputs": [
        {
          "output_type": "execute_result",
          "data": {
            "text/plain": [
              "array([0., 0., 0., 0., 0., 0., 0., 0., 0., 0., 0., 0., 0., 0., 0., 0., 0.,\n",
              "       0., 0., 0., 0., 0., 0., 0., 0., 0., 0., 0., 0., 0., 0., 0., 0., 0.,\n",
              "       0., 0., 0., 0., 0., 0., 0., 0., 0., 0., 0., 0., 0., 0., 0., 0., 0.,\n",
              "       0., 0., 0., 0., 0., 0., 0., 0., 0., 0., 0., 0., 0., 0., 0., 0., 0.,\n",
              "       0., 0., 0., 0., 0., 0., 0., 0., 0., 0., 0., 0., 0., 0., 0., 0., 0.,\n",
              "       0., 0., 0., 0., 0., 0., 0., 0., 0., 0., 0., 0., 0., 0., 0., 0., 0.,\n",
              "       0., 0., 0., 0., 0., 0., 0., 0., 0., 0., 0., 0., 0., 0., 0., 0., 0.,\n",
              "       0., 0., 0., 0., 0., 0., 0., 0., 0., 0., 0., 0., 0., 0., 0., 0., 0.,\n",
              "       0., 0., 0., 0., 0., 0., 0., 0., 0., 0., 0., 0., 0., 0., 0., 0., 0.,\n",
              "       0., 0., 0., 0., 0., 0., 0., 0., 0., 0., 0., 0., 0., 0., 0., 0., 0.,\n",
              "       0., 0., 0., 0., 0., 0., 0., 0., 0., 0., 0., 0., 0., 0., 0., 0., 0.,\n",
              "       0., 0., 0., 0., 0., 0., 0., 0., 0., 0., 0., 0., 0., 0., 0., 0., 0.,\n",
              "       0., 0., 0., 0., 0., 0., 0., 0., 0., 0., 0., 0., 0., 0., 0., 0., 0.,\n",
              "       0., 0., 0., 0., 0., 0., 0., 0., 0., 0., 0., 0., 0., 0., 0., 0., 0.,\n",
              "       0., 0., 0., 0., 0., 0., 0., 0., 0., 0., 0., 0., 0., 0., 0., 0., 0.,\n",
              "       0., 0., 0., 0., 0., 0., 0., 0., 0., 0., 0., 0., 0., 0., 0., 0., 0.,\n",
              "       0., 0., 0., 0., 0., 0., 0., 0., 0., 0., 0., 0., 0., 0., 0., 0., 0.,\n",
              "       0., 0., 0., 0., 0., 0., 0., 0., 0., 0., 0.], dtype=float32)"
            ]
          },
          "metadata": {},
          "execution_count": 25
        }
      ]
    },
    {
      "cell_type": "code",
      "source": [
        "biases.shape"
      ],
      "metadata": {
        "colab": {
          "base_uri": "https://localhost:8080/"
        },
        "id": "G-L7occtjhq9",
        "outputId": "33b15bb1-954b-4a38-f281-dd30cade7d52"
      },
      "execution_count": 26,
      "outputs": [
        {
          "output_type": "execute_result",
          "data": {
            "text/plain": [
              "(300,)"
            ]
          },
          "metadata": {},
          "execution_count": 26
        }
      ]
    },
    {
      "cell_type": "markdown",
      "source": [
        "processos de aprendizagem"
      ],
      "metadata": {
        "id": "Rh4vYumKjmFt"
      }
    },
    {
      "cell_type": "code",
      "source": [
        "model.compile(loss=\"sparse_categorical_crossentropy\",optimizer=\"sgd\",metrics=[\"accuracy\"])\n",
        "\n",
        "# scc = para dados categóricos\n",
        "# sgd = descida de gradiente estocástica\n",
        "# para rótulos binários = binary_cross_entropy"
      ],
      "metadata": {
        "id": "41BMsgRpjlxI"
      },
      "execution_count": 27,
      "outputs": []
    },
    {
      "cell_type": "code",
      "source": [
        "print(\"Fashion MNIST treinamento -  rows:\",x_train.shape[0],\" columns:\", x_train.shape[1:4])\n",
        "print(\"Fashion MNIST validação -  rows:\",x_valid.shape[0],\" columns:\", x_valid.shape[1:4])\n",
        "print(\"Fashion MNIST teste -  rows:\",x_test.shape[0],\" columns:\", x_test.shape[1:4])"
      ],
      "metadata": {
        "colab": {
          "base_uri": "https://localhost:8080/"
        },
        "id": "7DkMchbtuMS6",
        "outputId": "02acfeb5-9206-4fae-e31c-fde5848e46cc"
      },
      "execution_count": 28,
      "outputs": [
        {
          "output_type": "stream",
          "name": "stdout",
          "text": [
            "Fashion MNIST treinamento -  rows: 55000  columns: (28, 28)\n",
            "Fashion MNIST validação -  rows: 5000  columns: (28, 28)\n",
            "Fashion MNIST teste -  rows: 10000  columns: (28, 28)\n"
          ]
        }
      ]
    },
    {
      "cell_type": "markdown",
      "source": [
        "Executamos o modelo com o conjunto de treinamento. Também estamos usando o conjunto de validação (um subconjunto do conjunto de treinamento original) para validação."
      ],
      "metadata": {
        "id": "92nopMvEzZcw"
      }
    },
    {
      "cell_type": "code",
      "source": [
        "model_history = model.fit(x_train,y_train,epochs=30,validation_data=(x_valid, y_valid))\n",
        "# por padrão epochs = 1"
      ],
      "metadata": {
        "colab": {
          "base_uri": "https://localhost:8080/"
        },
        "id": "CdbvoJqTkH2b",
        "outputId": "40f3d45c-354b-4c8d-f8aa-4480d6370094"
      },
      "execution_count": 29,
      "outputs": [
        {
          "output_type": "stream",
          "name": "stdout",
          "text": [
            "Epoch 1/30\n",
            "1719/1719 [==============================] - 8s 4ms/step - loss: 0.7237 - accuracy: 0.7643 - val_loss: 0.5209 - val_accuracy: 0.8222\n",
            "Epoch 2/30\n",
            "1719/1719 [==============================] - 6s 3ms/step - loss: 0.4842 - accuracy: 0.8318 - val_loss: 0.4344 - val_accuracy: 0.8536\n",
            "Epoch 3/30\n",
            "1719/1719 [==============================] - 6s 4ms/step - loss: 0.4391 - accuracy: 0.8454 - val_loss: 0.5290 - val_accuracy: 0.8014\n",
            "Epoch 4/30\n",
            "1719/1719 [==============================] - 6s 4ms/step - loss: 0.4123 - accuracy: 0.8565 - val_loss: 0.3916 - val_accuracy: 0.8644\n",
            "Epoch 5/30\n",
            "1719/1719 [==============================] - 6s 4ms/step - loss: 0.3939 - accuracy: 0.8618 - val_loss: 0.3744 - val_accuracy: 0.8698\n",
            "Epoch 6/30\n",
            "1719/1719 [==============================] - 6s 3ms/step - loss: 0.3752 - accuracy: 0.8678 - val_loss: 0.3713 - val_accuracy: 0.8722\n",
            "Epoch 7/30\n",
            "1719/1719 [==============================] - 7s 4ms/step - loss: 0.3633 - accuracy: 0.8712 - val_loss: 0.3617 - val_accuracy: 0.8718\n",
            "Epoch 8/30\n",
            "1719/1719 [==============================] - 6s 4ms/step - loss: 0.3517 - accuracy: 0.8747 - val_loss: 0.3864 - val_accuracy: 0.8624\n",
            "Epoch 9/30\n",
            "1719/1719 [==============================] - 6s 4ms/step - loss: 0.3414 - accuracy: 0.8793 - val_loss: 0.3596 - val_accuracy: 0.8700\n",
            "Epoch 10/30\n",
            "1719/1719 [==============================] - 8s 5ms/step - loss: 0.3321 - accuracy: 0.8821 - val_loss: 0.3437 - val_accuracy: 0.8772\n",
            "Epoch 11/30\n",
            "1719/1719 [==============================] - 10s 6ms/step - loss: 0.3242 - accuracy: 0.8837 - val_loss: 0.3444 - val_accuracy: 0.8770\n",
            "Epoch 12/30\n",
            "1719/1719 [==============================] - 7s 4ms/step - loss: 0.3149 - accuracy: 0.8866 - val_loss: 0.3308 - val_accuracy: 0.8830\n",
            "Epoch 13/30\n",
            "1719/1719 [==============================] - 6s 3ms/step - loss: 0.3082 - accuracy: 0.8889 - val_loss: 0.3269 - val_accuracy: 0.8870\n",
            "Epoch 14/30\n",
            "1719/1719 [==============================] - 6s 4ms/step - loss: 0.3022 - accuracy: 0.8916 - val_loss: 0.3392 - val_accuracy: 0.8794\n",
            "Epoch 15/30\n",
            "1719/1719 [==============================] - 6s 4ms/step - loss: 0.2948 - accuracy: 0.8936 - val_loss: 0.3222 - val_accuracy: 0.8844\n",
            "Epoch 16/30\n",
            "1719/1719 [==============================] - 6s 4ms/step - loss: 0.2890 - accuracy: 0.8975 - val_loss: 0.3094 - val_accuracy: 0.8880\n",
            "Epoch 17/30\n",
            "1719/1719 [==============================] - 6s 4ms/step - loss: 0.2841 - accuracy: 0.8973 - val_loss: 0.3546 - val_accuracy: 0.8736\n",
            "Epoch 18/30\n",
            "1719/1719 [==============================] - 6s 3ms/step - loss: 0.2782 - accuracy: 0.8998 - val_loss: 0.3134 - val_accuracy: 0.8900\n",
            "Epoch 19/30\n",
            "1719/1719 [==============================] - 6s 3ms/step - loss: 0.2728 - accuracy: 0.9023 - val_loss: 0.3114 - val_accuracy: 0.8912\n",
            "Epoch 20/30\n",
            "1719/1719 [==============================] - 6s 3ms/step - loss: 0.2675 - accuracy: 0.9034 - val_loss: 0.3258 - val_accuracy: 0.8816\n",
            "Epoch 21/30\n",
            "1719/1719 [==============================] - 6s 3ms/step - loss: 0.2626 - accuracy: 0.9052 - val_loss: 0.3037 - val_accuracy: 0.8946\n",
            "Epoch 22/30\n",
            "1719/1719 [==============================] - 6s 4ms/step - loss: 0.2577 - accuracy: 0.9071 - val_loss: 0.2969 - val_accuracy: 0.8958\n",
            "Epoch 23/30\n",
            "1719/1719 [==============================] - 6s 4ms/step - loss: 0.2536 - accuracy: 0.9082 - val_loss: 0.2990 - val_accuracy: 0.8938\n",
            "Epoch 24/30\n",
            "1719/1719 [==============================] - 6s 3ms/step - loss: 0.2485 - accuracy: 0.9104 - val_loss: 0.3084 - val_accuracy: 0.8888\n",
            "Epoch 25/30\n",
            "1719/1719 [==============================] - 6s 3ms/step - loss: 0.2443 - accuracy: 0.9120 - val_loss: 0.2978 - val_accuracy: 0.8946\n",
            "Epoch 26/30\n",
            "1719/1719 [==============================] - 6s 4ms/step - loss: 0.2405 - accuracy: 0.9139 - val_loss: 0.3064 - val_accuracy: 0.8894\n",
            "Epoch 27/30\n",
            "1719/1719 [==============================] - 6s 3ms/step - loss: 0.2360 - accuracy: 0.9150 - val_loss: 0.3022 - val_accuracy: 0.8954\n",
            "Epoch 28/30\n",
            "1719/1719 [==============================] - 7s 4ms/step - loss: 0.2327 - accuracy: 0.9163 - val_loss: 0.2982 - val_accuracy: 0.8946\n",
            "Epoch 29/30\n",
            "1719/1719 [==============================] - 6s 4ms/step - loss: 0.2283 - accuracy: 0.9181 - val_loss: 0.3061 - val_accuracy: 0.8896\n",
            "Epoch 30/30\n",
            "1719/1719 [==============================] - 6s 3ms/step - loss: 0.2250 - accuracy: 0.9192 - val_loss: 0.3014 - val_accuracy: 0.8922\n"
          ]
        }
      ]
    },
    {
      "cell_type": "code",
      "source": [
        "model_history.params"
      ],
      "metadata": {
        "colab": {
          "base_uri": "https://localhost:8080/"
        },
        "id": "cFw7F7RckO4c",
        "outputId": "d114abd1-7a59-4765-ecfe-f5bb125a2ad7"
      },
      "execution_count": 30,
      "outputs": [
        {
          "output_type": "execute_result",
          "data": {
            "text/plain": [
              "{'epochs': 30, 'steps': 1719, 'verbose': 1}"
            ]
          },
          "metadata": {},
          "execution_count": 30
        }
      ]
    },
    {
      "cell_type": "code",
      "source": [
        "model_history.history"
      ],
      "metadata": {
        "colab": {
          "base_uri": "https://localhost:8080/"
        },
        "id": "AFKQpykPkQOt",
        "outputId": "939b8130-9c41-4c7d-93d7-97ba5216452c"
      },
      "execution_count": 31,
      "outputs": [
        {
          "output_type": "execute_result",
          "data": {
            "text/plain": [
              "{'accuracy': [0.7643272876739502,\n",
              "  0.8317636251449585,\n",
              "  0.8454363346099854,\n",
              "  0.8565090894699097,\n",
              "  0.8617636561393738,\n",
              "  0.8677999973297119,\n",
              "  0.871181845664978,\n",
              "  0.8746727108955383,\n",
              "  0.8792545199394226,\n",
              "  0.8820545673370361,\n",
              "  0.8837272524833679,\n",
              "  0.8865818381309509,\n",
              "  0.8888727426528931,\n",
              "  0.8916000127792358,\n",
              "  0.8935818076133728,\n",
              "  0.897454559803009,\n",
              "  0.8972908854484558,\n",
              "  0.8998181819915771,\n",
              "  0.9023091197013855,\n",
              "  0.9034000039100647,\n",
              "  0.9052363634109497,\n",
              "  0.9071090817451477,\n",
              "  0.9082182049751282,\n",
              "  0.9103817939758301,\n",
              "  0.9120363593101501,\n",
              "  0.9138727188110352,\n",
              "  0.9150363802909851,\n",
              "  0.9162545204162598,\n",
              "  0.9181272983551025,\n",
              "  0.9192363619804382],\n",
              " 'loss': [0.7236968874931335,\n",
              "  0.48415565490722656,\n",
              "  0.4390614330768585,\n",
              "  0.4123377501964569,\n",
              "  0.3938591182231903,\n",
              "  0.37515193223953247,\n",
              "  0.36325040459632874,\n",
              "  0.35174188017845154,\n",
              "  0.3414267301559448,\n",
              "  0.33207839727401733,\n",
              "  0.3241569697856903,\n",
              "  0.31493544578552246,\n",
              "  0.3081856966018677,\n",
              "  0.3021668791770935,\n",
              "  0.29475921392440796,\n",
              "  0.28904280066490173,\n",
              "  0.2840714454650879,\n",
              "  0.27816349267959595,\n",
              "  0.2728419005870819,\n",
              "  0.26751646399497986,\n",
              "  0.26259851455688477,\n",
              "  0.25770771503448486,\n",
              "  0.25355979800224304,\n",
              "  0.24847008287906647,\n",
              "  0.2443327009677887,\n",
              "  0.24048320949077606,\n",
              "  0.23604579269886017,\n",
              "  0.2327105849981308,\n",
              "  0.22831015288829803,\n",
              "  0.2249780148267746],\n",
              " 'val_accuracy': [0.8222000002861023,\n",
              "  0.853600025177002,\n",
              "  0.8014000058174133,\n",
              "  0.8644000291824341,\n",
              "  0.8697999715805054,\n",
              "  0.8722000122070312,\n",
              "  0.8718000054359436,\n",
              "  0.8623999953269958,\n",
              "  0.8700000047683716,\n",
              "  0.8772000074386597,\n",
              "  0.8769999742507935,\n",
              "  0.8830000162124634,\n",
              "  0.8870000243186951,\n",
              "  0.8794000148773193,\n",
              "  0.8844000101089478,\n",
              "  0.8880000114440918,\n",
              "  0.8736000061035156,\n",
              "  0.8899999856948853,\n",
              "  0.8912000060081482,\n",
              "  0.881600022315979,\n",
              "  0.894599974155426,\n",
              "  0.895799994468689,\n",
              "  0.8938000202178955,\n",
              "  0.8888000249862671,\n",
              "  0.894599974155426,\n",
              "  0.8894000053405762,\n",
              "  0.8953999876976013,\n",
              "  0.894599974155426,\n",
              "  0.8895999789237976,\n",
              "  0.8921999931335449],\n",
              " 'val_loss': [0.5208803415298462,\n",
              "  0.43437460064888,\n",
              "  0.5290253162384033,\n",
              "  0.3915790915489197,\n",
              "  0.37438836693763733,\n",
              "  0.37132078409194946,\n",
              "  0.3616732060909271,\n",
              "  0.3863634169101715,\n",
              "  0.3595988154411316,\n",
              "  0.34369170665740967,\n",
              "  0.3444382846355438,\n",
              "  0.330788254737854,\n",
              "  0.3268509805202484,\n",
              "  0.33917000889778137,\n",
              "  0.32221242785453796,\n",
              "  0.30939415097236633,\n",
              "  0.35458672046661377,\n",
              "  0.3134419620037079,\n",
              "  0.31143125891685486,\n",
              "  0.3257870674133301,\n",
              "  0.3036867380142212,\n",
              "  0.2968897521495819,\n",
              "  0.29899275302886963,\n",
              "  0.3083641231060028,\n",
              "  0.29780808091163635,\n",
              "  0.30643853545188904,\n",
              "  0.30219578742980957,\n",
              "  0.298159122467041,\n",
              "  0.3060768246650696,\n",
              "  0.3014112114906311]}"
            ]
          },
          "metadata": {},
          "execution_count": 31
        }
      ]
    },
    {
      "cell_type": "code",
      "source": [
        "pd.DataFrame(model_history.history).plot(figsize = (8,5))\n",
        "plt.grid(True)\n",
        "plt.gca().set_ylim(0,1)\n",
        "plt.show()"
      ],
      "metadata": {
        "colab": {
          "base_uri": "https://localhost:8080/",
          "height": 324
        },
        "id": "JlnvCG0ckQAP",
        "outputId": "b4f1e321-8232-4559-95a2-b4a39cea78f9"
      },
      "execution_count": 32,
      "outputs": [
        {
          "output_type": "display_data",
          "data": {
            "image/png": "[encoded data removed]",
            "text/plain": [
              "<Figure size 576x360 with 1 Axes>"
            ]
          },
          "metadata": {
            "needs_background": "light"
          }
        }
      ]
    },
    {
      "cell_type": "markdown",
      "source": [
        "Avaliamos a precisão do modelo com base nos valores previstos para o conjunto de teste. Vamos verificar o valor de validação durante o treinamento."
      ],
      "metadata": {
        "id": "A9g-DtUy28mn"
      }
    },
    {
      "cell_type": "code",
      "source": [
        "# Calculamos a perda e a precisão do teste\n",
        "score = model.evaluate(x_test, y_test, verbose=0)\n",
        "print('Teste loss:', score[0])\n",
        "print('Teste accuracy:', score[1])"
      ],
      "metadata": {
        "colab": {
          "base_uri": "https://localhost:8080/"
        },
        "id": "UtfWBCVV1ANW",
        "outputId": "2fe17f23-b0cd-438f-8e54-d6dd59508861"
      },
      "execution_count": 33,
      "outputs": [
        {
          "output_type": "stream",
          "name": "stdout",
          "text": [
            "Teste loss: 0.33515679836273193\n",
            "Teste accuracy: 0.8826000094413757\n"
          ]
        }
      ]
    },
    {
      "cell_type": "code",
      "source": [
        "# model = keras.models.Sequential() # USANDO API SEQUENCIAL\n",
        "# model.add(keras.layers.Flatten(input_shape=[28,28])) # camada de entrada, convertendo 2D para 28*28 pixels usando flatten\n",
        "# model.add(keras.layers.Dense(300,activation=\"relu\")) # 1ª camada oculta, 300=não de neurônios, relu = função de ativação\n",
        "# model.add(keras.layers.Dense(100,activation=\"relu\")) # 2ª camada oculta\n",
        "# model.add(keras.layers.Dense(10,activation=\"softmax\")) # camada de saída, categorias=10\n",
        "# # relu = 0 para todos os números negativos ou relu = saída para os números positivos\n",
        "\n",
        "\n",
        "# model.fit(train_images, train_labels, shuffle=True, batch_size=100, epochs=50, validation_split=0.2)\n",
        "\n",
        "# model_history_2 = model_2.fit(x_train, y_train, epochs=30, validation_data=(x_valid, y_valid))\n",
        "\n",
        "# model_2.compile(loss=\"sparse_categorical_crossentropy\",optimizer=\"sgd\",metrics=[\"accuracy\"])"
      ],
      "metadata": {
        "id": "H12X5YZO16jP"
      },
      "execution_count": 34,
      "outputs": []
    },
    {
      "cell_type": "markdown",
      "source": [
        "### Retreinar o modelo"
      ],
      "metadata": {
        "id": "K5z5yp-H3FJi"
      }
    },
    {
      "cell_type": "code",
      "source": [
        "# x_valid, x_train = x_train_n[:5000], x_train_n[5000:]\n",
        "# y_valid, y_train = y_train_full[:5000], y_train_full[5000:]\n",
        "# x_test = x_test_n\n",
        "\n",
        "# x_train = x_train.reshape(x_train.shape[0], 28, 28, 1)\n",
        "# print(x_train.shape, y_train.shape)\n",
        "\n",
        "# x_test = x_test.reshape(x_test.shape[0], 28, 28, 1)\n",
        "# print(x_test.shape, y_train.shape)"
      ],
      "metadata": {
        "colab": {
          "base_uri": "https://localhost:8080/"
        },
        "id": "Wkj_g3HXT2XD",
        "outputId": "75b1e258-86e4-4df5-ded5-4065d92e8024"
      },
      "execution_count": 35,
      "outputs": [
        {
          "output_type": "stream",
          "name": "stdout",
          "text": [
            "(55000, 28, 28, 1) (55000,)\n",
            "(10000, 28, 28, 1) (55000,)\n"
          ]
        }
      ]
    },
    {
      "cell_type": "code",
      "source": [
        "# from keras.utils.np_utils import to_categorical\n",
        "\n",
        "# nclasses = y_train.max() - y_train.min() + 1\n",
        "# y_train = to_categorical(y_train, num_classes = nclasses)\n",
        "# print(\"Shape of train ylabels after encoding: \", y_train.shape)"
      ],
      "metadata": {
        "colab": {
          "base_uri": "https://localhost:8080/"
        },
        "id": "TgW34yu0T2Ph",
        "outputId": "1b3c14a1-685b-4566-f84b-f0f5c0756fdb"
      },
      "execution_count": 36,
      "outputs": [
        {
          "output_type": "stream",
          "name": "stdout",
          "text": [
            "Shape of train ylabels after encoding:  (55000, 10)\n"
          ]
        }
      ]
    },
    {
      "cell_type": "code",
      "source": [
        "# from tensorflow.python.keras.models import Sequential\n",
        "\n",
        "\n",
        "# model_2 = Sequential()\n",
        "# model_2.add(Conv2D(32, kernel_size = (3, 3), activation='relu', input_shape = (28, 28, 1)))\n",
        "# model_2.add(BatchNormalization())\n",
        "# model_2.add(Conv2D(32, kernel_size = (3, 3), activation='relu'))\n",
        "# model_2.add(BatchNormalization())\n",
        "# model_2.add(Conv2D(32, kernel_size = 5, strides=2, padding='same', activation='relu'))\n",
        "# model_2.add(BatchNormalization())\n",
        "# model_2.add(Dropout(0.4))\n",
        "\n",
        "# model_2.add(Conv2D(64, kernel_size = (3, 3), activation='relu'))\n",
        "# model_2.add(BatchNormalization())\n",
        "# model_2.add(Conv2D(64, kernel_size = (3, 3), activation='relu'))\n",
        "# model_2.add(BatchNormalization())\n",
        "# model_2.add(Conv2D(64, kernel_size = 5, strides=2, padding='same', activation='relu'))\n",
        "# model_2.add(BatchNormalization())\n",
        "# model_2.add(Dropout(0.4))\n",
        "\n",
        "# model_2.add(Conv2D(128, kernel_size = 4, activation='relu'))\n",
        "# model_2.add(BatchNormalization())\n",
        "# model_2.add(Flatten())\n",
        "# model_2.add(Dropout(0.4))\n",
        "# model_2.add(Dense(10, activation='softmax'))\n",
        "\n",
        "# # model_2.compile(optimizer=\"adam\", loss=\"categorical_crossentropy\", metrics=[\"accuracy\"])\n",
        "# model_2.compile(loss=\"categorical_crossentropy\", optimizer='adam',metrics=[\"accuracy\"])\n"
      ],
      "metadata": {
        "id": "glEHDzJPRTt8"
      },
      "execution_count": 51,
      "outputs": []
    },
    {
      "cell_type": "code",
      "source": [
        "# from tensorflow.python.keras.models import Sequential\n",
        "# # from tensorflow.python.keras.layers import Dense, Flatten, Conv2D, Dropout, MaxPooling2D\n",
        "\n",
        "# # Model\n",
        "# model_2 = Sequential()\n",
        "\n",
        "# # model.add(keras.layers.Flatten(input_shape=[28,28]))\n",
        "\n",
        "# # Add convolution 2D\n",
        "# model_2.add(Conv2D(32, kernel_size=(3, 3),\n",
        "#                  activation='relu',\n",
        "#                  kernel_initializer='he_normal',\n",
        "#                  input_shape=(28, 28, 1)))\n",
        "\n",
        "# model_2.add(MaxPooling2D((2, 2)))\n",
        "\n",
        "# # Add dropouts to the model_2\n",
        "# model_2.add(Dropout(0.25))\n",
        "# model_2.add(Conv2D(64, \n",
        "#                  kernel_size=(2, 2), \n",
        "#                  activation='relu'))\n",
        "# model_2.add(MaxPooling2D(pool_size=(2, 2)))\n",
        "\n",
        "# # Add dropouts to the model_2\n",
        "# model_2.add(Dropout(0.25))\n",
        "# model_2.add(Conv2D(128, (2, 2), activation='relu'))\n",
        "\n",
        "# # Add dropouts to the model_2\n",
        "# model_2.add(Dropout(0.4))\n",
        "\n",
        "# # model.add(keras.layers.Flatten(input_shape=[28,28]))\n",
        "\n",
        "# model_2.add(Flatten())\n",
        "# model_2.add(Dense(128, activation='relu'))\n",
        "\n",
        "# # Add dropouts to the model_2\n",
        "# model_2.add(Dropout(0.3))\n",
        "# model_2.add(Dense(10, activation='softmax'))\n",
        "\n",
        "# # model_2.compile(loss=\"sparse_categorical_crossentropy\",optimizer=\"sgd\",metrics=[\"accuracy\"])\n",
        "# # model_2.compile(loss=keras.losses.categorical_crossentropy,\n",
        "# #               optimizer='adam',\n",
        "# #               metrics=['accuracy'])\n",
        "# model_2.compile(loss=\"sparse_categorical_crossentropy\",\n",
        "#               optimizer=\"sgd\",\n",
        "#               metrics=['accuracy'])\n",
        "\n"
      ],
      "metadata": {
        "id": "1SUqpnuP1AHd"
      },
      "execution_count": 38,
      "outputs": []
    },
    {
      "cell_type": "code",
      "source": [
        "# IMG_ROWS = 28\n",
        "# IMG_COLS = 28\n",
        "# NUM_CLASSES = 10\n",
        "# TEST_SIZE = 0.2\n",
        "# RANDOM_STATE = 2018\n",
        "# #Model\n",
        "# NO_EPOCHS = 50\n",
        "# BATCH_SIZE = 128\n",
        "\n",
        "# IS_LOCAL = False"
      ],
      "metadata": {
        "id": "21ofL7-9m5OR"
      },
      "execution_count": null,
      "outputs": []
    },
    {
      "cell_type": "markdown",
      "source": [
        ""
      ],
      "metadata": {
        "id": "J4BAEivyppIe"
      }
    },
    {
      "cell_type": "code",
      "source": [
        "from tensorflow.python.keras.models import Sequential\n",
        "from tensorflow.keras.optimizers import Adam\n",
        "from tensorflow.keras.callbacks import TensorBoard\n",
        "\n",
        "# model_2 = Sequential()\n",
        "\n",
        "# # Try 32 fliters first then 64\n",
        "# model_2.add(Conv2D(filters=32, kernel_size=(3, 3), input_shape=(28,28,1), activation='relu', padding='same'))\n",
        "# model_2.add(BatchNormalization())\n",
        "# model_2.add(Conv2D(filters=32, kernel_size=(3, 3), input_shape=(28,28,1), activation='relu', padding='same'))\n",
        "# model_2.add(BatchNormalization())\n",
        "# model_2.add(MaxPooling2D(pool_size=(2, 2)))\n",
        "# model_2.add(Dropout(0.2))\n",
        "\n",
        "# model_2.add(Conv2D(filters=64, kernel_size=(3, 3), input_shape=(28,28,1), activation='relu', padding='same'))\n",
        "# model_2.add(BatchNormalization())\n",
        "# model_2.add(Conv2D(filters=64, kernel_size=(3, 3), input_shape=(28,28,1), activation='relu', padding='same'))\n",
        "# model_2.add(BatchNormalization())\n",
        "# model_2.add(MaxPooling2D(pool_size=(2, 2)))\n",
        "# model_2.add(Dropout(0.2))\n",
        "\n",
        "# # model_2.add(Conv2D(filters=128, kernel_size=(3, 3), input_shape=(28,28,1), activation='relu'))\n",
        "# # model_2.add(BatchNormalization())\n",
        "# # model_2.add(Conv2D(filters=128, kernel_size=(3, 3), input_shape=(28,28,1), activation='relu'))\n",
        "# # model_2.add(BatchNormalization())\n",
        "# # model_2.add(MaxPooling2D(pool_size=(2, 2)))\n",
        "# # model_2.add(Dropout(0.25))\n",
        "\n",
        "# # model_2.add(Conv2D(32,3, 3, activation='relu'))\n",
        "# # model_2.add(MaxPooling2D(pool_size = (2, 2)))\n",
        "\n",
        "# model_2.add(Flatten())\n",
        "# model_2.add(Dense(units=128, activation='relu'))\n",
        "# model_2.add(Dropout(0.2))\n",
        "# model_2.add(Dense(units=10, activation='softmax'))"
      ],
      "metadata": {
        "id": "V1lKWZ-ifd63"
      },
      "execution_count": 44,
      "outputs": []
    },
    {
      "cell_type": "code",
      "source": [
        ""
      ],
      "metadata": {
        "id": "PkY10ziDyLS_"
      },
      "execution_count": null,
      "outputs": []
    },
    {
      "cell_type": "code",
      "source": [
        ""
      ],
      "metadata": {
        "id": "RiyowmQQyLH9"
      },
      "execution_count": null,
      "outputs": []
    },
    {
      "cell_type": "code",
      "source": [
        "model_2 = keras.models.Sequential([\n",
        "                         keras.layers.Conv2D(filters = 64 , kernel_size = 3,strides = (1,1), padding = 'valid',activation = 'relu',input_shape = [28,28,1]), # 1st Layer\n",
        "                         keras.layers.MaxPooling2D(pool_size = (2,2)),\n",
        "\n",
        "                         keras.layers.Conv2D(filters = 128 , kernel_size = 3,strides = (2,2), padding = 'same',activation = 'relu',input_shape = [28,28,1]), # 2nd Layer\n",
        "                         keras.layers.MaxPooling2D(pool_size = (2,2)),\n",
        "\n",
        "                         keras.layers.Conv2D(filters = 64 , kernel_size = 3,strides = (2,2), padding = 'same',activation = 'relu',input_shape = [28,28,1]), # 3rd Layer\n",
        "                         keras.layers.MaxPooling2D(pool_size = (2,2)),\n",
        "\n",
        "                         keras.layers.Flatten(),\n",
        "                         keras.layers.Dense(units = 128,activation = 'relu'),\n",
        "                         keras.layers.Dropout(0.25),\n",
        "                         keras.layers.Dense(units = 256,activation = 'relu'),\n",
        "                         keras.layers.Dropout(0.5),\n",
        "                         keras.layers.Dense(units = 256,activation = 'relu'),\n",
        "                         keras.layers.Dropout(0.25),\n",
        "                         keras.layers.Dense(units = 128,activation = 'relu'),\n",
        "                         keras.layers.Dropout(0.10),\n",
        "                         keras.layers.Dense(units = 10,activation = 'softmax')  \n",
        "                        \n",
        "])"
      ],
      "metadata": {
        "id": "b9PLmT4DyLFM"
      },
      "execution_count": 34,
      "outputs": []
    },
    {
      "cell_type": "code",
      "source": [
        "model_2.compile(loss=\"sparse_categorical_crossentropy\",optimizer=\"sgd\",metrics=[\"accuracy\"])"
      ],
      "metadata": {
        "id": "tqM_zRyeyTUf"
      },
      "execution_count": 35,
      "outputs": []
    },
    {
      "cell_type": "markdown",
      "source": [
        "Vamos inspecionar primeiro o modelo."
      ],
      "metadata": {
        "id": "8jpJQifs3WSV"
      }
    },
    {
      "cell_type": "code",
      "source": [
        "model_2.summary()"
      ],
      "metadata": {
        "colab": {
          "base_uri": "https://localhost:8080/"
        },
        "id": "9GT3ERYC0_91",
        "outputId": "761e5e01-0b4b-4a6e-ef9b-7e89d2ec35ed"
      },
      "execution_count": 36,
      "outputs": [
        {
          "output_type": "stream",
          "name": "stdout",
          "text": [
            "Model: \"sequential_1\"\n",
            "_________________________________________________________________\n",
            " Layer (type)                Output Shape              Param #   \n",
            "=================================================================\n",
            " conv2d (Conv2D)             (None, 26, 26, 64)        640       \n",
            "                                                                 \n",
            " max_pooling2d (MaxPooling2D  (None, 13, 13, 64)       0         \n",
            " )                                                               \n",
            "                                                                 \n",
            " conv2d_1 (Conv2D)           (None, 7, 7, 128)         73856     \n",
            "                                                                 \n",
            " max_pooling2d_1 (MaxPooling  (None, 3, 3, 128)        0         \n",
            " 2D)                                                             \n",
            "                                                                 \n",
            " conv2d_2 (Conv2D)           (None, 2, 2, 64)          73792     \n",
            "                                                                 \n",
            " max_pooling2d_2 (MaxPooling  (None, 1, 1, 64)         0         \n",
            " 2D)                                                             \n",
            "                                                                 \n",
            " flatten_1 (Flatten)         (None, 64)                0         \n",
            "                                                                 \n",
            " dense_3 (Dense)             (None, 128)               8320      \n",
            "                                                                 \n",
            " dropout (Dropout)           (None, 128)               0         \n",
            "                                                                 \n",
            " dense_4 (Dense)             (None, 256)               33024     \n",
            "                                                                 \n",
            " dropout_1 (Dropout)         (None, 256)               0         \n",
            "                                                                 \n",
            " dense_5 (Dense)             (None, 256)               65792     \n",
            "                                                                 \n",
            " dropout_2 (Dropout)         (None, 256)               0         \n",
            "                                                                 \n",
            " dense_6 (Dense)             (None, 128)               32896     \n",
            "                                                                 \n",
            " dropout_3 (Dropout)         (None, 128)               0         \n",
            "                                                                 \n",
            " dense_7 (Dense)             (None, 10)                1290      \n",
            "                                                                 \n",
            "=================================================================\n",
            "Total params: 289,610\n",
            "Trainable params: 289,610\n",
            "Non-trainable params: 0\n",
            "_________________________________________________________________\n"
          ]
        }
      ]
    },
    {
      "cell_type": "code",
      "source": [
        "# from keras.utils.vis_utils import model_to_dot\n",
        "# from keras.utils.vis_utils import plot_model\n",
        "# from IPython.display import SVG\n",
        "# from keras.utils.vis_utils import plot_model\n",
        "\n",
        "# keras.utils.plot_model(model_2, show_layer_names=True, to_file='model.png') # visual anterior\n",
        "\n",
        "\n",
        "# from keras.utils import plot_model\n",
        "\n",
        "# keras.utils.plot_model(model_2)\n",
        "# plot_model(model_2, to_file='model.png')\n",
        "\n",
        "\n",
        "# keras.utils.plot_model(model_2)\n",
        "# SVG(model_to_dot(model_2).create(prog='dot', format='svg'))\n",
        "\n",
        "# plot_model(model_2, to_file='model_plot.png', show_shapes=True, show_layer_names=True)\n",
        "\n",
        "\n",
        "# model_history = model.fit(x_train, y_train, epochs=30, validation_data = (x_valid,y_valid))\n",
        "\n",
        "# x_valid, x_train = x_train_n[:5000], x_train_n[5000:]\n",
        "# y_valid, y_train = y_train_full[:5000], y_train_full[5000:]\n",
        "# x_test = x_test_n\n"
      ],
      "metadata": {
        "id": "vMXZJ0V773t_"
      },
      "execution_count": 68,
      "outputs": []
    },
    {
      "cell_type": "code",
      "source": [
        "# x_valid = x_valid.reshape(-1, 28, 28, 1)\n",
        "\n",
        "# x_valid = tf.reshape(x_valid, (-1, 28, 28, 1))\n",
        "# x_valid = np.expand_dims(x_valid, axis=-1)\n",
        "\n",
        "# x_train, x_test = x_train.reshape(-1,28,28,1), x_test.reshape(-1,28,28,1)\n",
        "\n",
        "# model.fit(x_train, y_train, shuffle=True, batch_size=100, epochs=50, validation_split=0.2)\n",
        "\n",
        "# model.fit(x_train, y_train, shuffle=True, batch_size=100, epochs=50, validation_data=(x_valid, y_valid))"
      ],
      "metadata": {
        "id": "MMHareD9FzVL"
      },
      "execution_count": 41,
      "outputs": []
    },
    {
      "cell_type": "code",
      "source": [
        "# from tensorflow.keras.callbacks import EarlyStopping, ModelCheckpoint\n",
        "\n",
        "# callbacks_list = [EarlyStopping(monitor='accuracy', patience=5, restore_best_weights=True)]\n",
        "\n",
        "# history_2 = model_2.fit(x_train, y_train, \n",
        "#                     batch_size=128, \n",
        "#                     epochs=30, \n",
        "#                     validation_data=(x_valid, y_valid), \n",
        "#                     callbacks=callbacks_list, \n",
        "#                     verbose=1)"
      ],
      "metadata": {
        "id": "vwcomsU7d0nM"
      },
      "execution_count": 60,
      "outputs": []
    },
    {
      "cell_type": "code",
      "source": [
        "# model_2.compile(loss ='sparse_categorical_crossentropy', optimizer='sgd', metrics=['accuracy'])"
      ],
      "metadata": {
        "id": "DMs-3iiTtQu-"
      },
      "execution_count": 48,
      "outputs": []
    },
    {
      "cell_type": "code",
      "source": [
        "# fashion_mnist = keras.datasets.fashion_mnist\n",
        "# (x_train_full, y_train_full),(x_test,y_test) = fashion_mnist.load_data()\n",
        "\n",
        "# x_train_n = x_train_full/255.\n",
        "# x_test_n = x_test/255.\n",
        "\n",
        "# x_valid, x_train = x_train_n[:5000], x_train_n[5000:]\n",
        "# y_valid, y_train = y_train_full[:5000], y_train_full[5000:]\n",
        "\n",
        "# x_test = x_test_n"
      ],
      "metadata": {
        "id": "yMXVTH7buWbS"
      },
      "execution_count": null,
      "outputs": []
    },
    {
      "cell_type": "code",
      "source": [
        "# epochs = 50\n",
        "# batch_size = 512\n",
        "\n",
        "# history = model_2.fit(\n",
        "#     x_train, y_train, \n",
        "#     batch_size=batch_size, \n",
        "#     epochs=epochs,\n",
        "#     verbose=1, \n",
        "#     validation_data=(x_valid, y_valid)\n",
        "# )"
      ],
      "metadata": {
        "id": "vPpGzQJlswQZ"
      },
      "execution_count": 59,
      "outputs": []
    },
    {
      "cell_type": "code",
      "source": [
        "model_history_2 = model_2.fit(x_train, y_train, epochs=30, validation_data=(x_valid, y_valid))"
      ],
      "metadata": {
        "id": "GqJ6rUqh5EX8"
      },
      "execution_count": null,
      "outputs": []
    },
    {
      "cell_type": "code",
      "source": [
        "model_history_2 = model_2.fit(x_train, y_train, epochs = 30, batch_size = 128, verbose = 1, validation_data=(x_valid, y_valid))"
      ],
      "metadata": {
        "colab": {
          "base_uri": "https://localhost:8080/"
        },
        "id": "a4iLejrrym59",
        "outputId": "547f16bc-b0e0-4206-febc-6d82ad3ad4ff"
      },
      "execution_count": 37,
      "outputs": [
        {
          "output_type": "stream",
          "name": "stdout",
          "text": [
            "Epoch 1/30\n",
            "430/430 [==============================] - 62s 142ms/step - loss: 2.2987 - accuracy: 0.1372 - val_loss: 2.2855 - val_accuracy: 0.4542\n",
            "Epoch 2/30\n",
            "430/430 [==============================] - 59s 138ms/step - loss: 2.2749 - accuracy: 0.2258 - val_loss: 2.2196 - val_accuracy: 0.4014\n",
            "Epoch 3/30\n",
            "430/430 [==============================] - 60s 139ms/step - loss: 2.0289 - accuracy: 0.2752 - val_loss: 1.4265 - val_accuracy: 0.4316\n",
            "Epoch 4/30\n",
            "430/430 [==============================] - 60s 139ms/step - loss: 1.3742 - accuracy: 0.4206 - val_loss: 1.0688 - val_accuracy: 0.5524\n",
            "Epoch 5/30\n",
            "430/430 [==============================] - 60s 139ms/step - loss: 1.1684 - accuracy: 0.5059 - val_loss: 0.9633 - val_accuracy: 0.6024\n",
            "Epoch 6/30\n",
            "430/430 [==============================] - 61s 141ms/step - loss: 1.0575 - accuracy: 0.5604 - val_loss: 0.8774 - val_accuracy: 0.6754\n",
            "Epoch 7/30\n",
            "430/430 [==============================] - 66s 153ms/step - loss: 0.9552 - accuracy: 0.6166 - val_loss: 0.7649 - val_accuracy: 0.7212\n",
            "Epoch 8/30\n",
            "430/430 [==============================] - 60s 139ms/step - loss: 0.8673 - accuracy: 0.6601 - val_loss: 0.6863 - val_accuracy: 0.7432\n",
            "Epoch 9/30\n",
            "430/430 [==============================] - 60s 140ms/step - loss: 0.7978 - accuracy: 0.6909 - val_loss: 0.6827 - val_accuracy: 0.7408\n",
            "Epoch 10/30\n",
            "430/430 [==============================] - 61s 141ms/step - loss: 0.7511 - accuracy: 0.7085 - val_loss: 0.6054 - val_accuracy: 0.7672\n",
            "Epoch 11/30\n",
            "430/430 [==============================] - 60s 139ms/step - loss: 0.7117 - accuracy: 0.7284 - val_loss: 0.5845 - val_accuracy: 0.7744\n",
            "Epoch 12/30\n",
            "430/430 [==============================] - 60s 139ms/step - loss: 0.6820 - accuracy: 0.7410 - val_loss: 0.5508 - val_accuracy: 0.7878\n",
            "Epoch 13/30\n",
            "430/430 [==============================] - 60s 139ms/step - loss: 0.6521 - accuracy: 0.7534 - val_loss: 0.5280 - val_accuracy: 0.7970\n",
            "Epoch 14/30\n",
            "430/430 [==============================] - 60s 140ms/step - loss: 0.6352 - accuracy: 0.7616 - val_loss: 0.5423 - val_accuracy: 0.7868\n",
            "Epoch 15/30\n",
            "430/430 [==============================] - 60s 139ms/step - loss: 0.6110 - accuracy: 0.7717 - val_loss: 0.5024 - val_accuracy: 0.8050\n",
            "Epoch 16/30\n",
            "430/430 [==============================] - 60s 139ms/step - loss: 0.5929 - accuracy: 0.7780 - val_loss: 0.4900 - val_accuracy: 0.8084\n",
            "Epoch 17/30\n",
            "430/430 [==============================] - 60s 140ms/step - loss: 0.5781 - accuracy: 0.7838 - val_loss: 0.5018 - val_accuracy: 0.8074\n",
            "Epoch 18/30\n",
            "430/430 [==============================] - 60s 139ms/step - loss: 0.5629 - accuracy: 0.7900 - val_loss: 0.4792 - val_accuracy: 0.8158\n",
            "Epoch 19/30\n",
            "430/430 [==============================] - 60s 139ms/step - loss: 0.5525 - accuracy: 0.7932 - val_loss: 0.5255 - val_accuracy: 0.7980\n",
            "Epoch 20/30\n",
            "430/430 [==============================] - 60s 139ms/step - loss: 0.5399 - accuracy: 0.7991 - val_loss: 0.4921 - val_accuracy: 0.8072\n",
            "Epoch 21/30\n",
            "430/430 [==============================] - 60s 139ms/step - loss: 0.5293 - accuracy: 0.8038 - val_loss: 0.4628 - val_accuracy: 0.8222\n",
            "Epoch 22/30\n",
            "430/430 [==============================] - 60s 139ms/step - loss: 0.5139 - accuracy: 0.8094 - val_loss: 0.4309 - val_accuracy: 0.8428\n",
            "Epoch 23/30\n",
            "430/430 [==============================] - 60s 139ms/step - loss: 0.5074 - accuracy: 0.8110 - val_loss: 0.4291 - val_accuracy: 0.8446\n",
            "Epoch 24/30\n",
            "430/430 [==============================] - 60s 139ms/step - loss: 0.4951 - accuracy: 0.8165 - val_loss: 0.4241 - val_accuracy: 0.8470\n",
            "Epoch 25/30\n",
            "430/430 [==============================] - 60s 139ms/step - loss: 0.4865 - accuracy: 0.8193 - val_loss: 0.4222 - val_accuracy: 0.8436\n",
            "Epoch 26/30\n",
            "430/430 [==============================] - 62s 144ms/step - loss: 0.4825 - accuracy: 0.8230 - val_loss: 0.4200 - val_accuracy: 0.8478\n",
            "Epoch 27/30\n",
            "430/430 [==============================] - 60s 139ms/step - loss: 0.4738 - accuracy: 0.8268 - val_loss: 0.4010 - val_accuracy: 0.8474\n",
            "Epoch 28/30\n",
            "430/430 [==============================] - 60s 139ms/step - loss: 0.4628 - accuracy: 0.8305 - val_loss: 0.4121 - val_accuracy: 0.8486\n",
            "Epoch 29/30\n",
            "430/430 [==============================] - 60s 139ms/step - loss: 0.4558 - accuracy: 0.8336 - val_loss: 0.3935 - val_accuracy: 0.8524\n",
            "Epoch 30/30\n",
            "430/430 [==============================] - 60s 139ms/step - loss: 0.4465 - accuracy: 0.8385 - val_loss: 0.4178 - val_accuracy: 0.8470\n"
          ]
        }
      ]
    },
    {
      "cell_type": "code",
      "source": [
        "score = model_2.evaluate(x_test, y_test, verbose=0)\n",
        "print('Teste loss:', score[0])\n",
        "print('Teste accuracy:', score[1])"
      ],
      "metadata": {
        "colab": {
          "base_uri": "https://localhost:8080/"
        },
        "id": "EBRw7KyJExY-",
        "outputId": "df0992b8-af39-47d0-9044-d34539bd511c"
      },
      "execution_count": 38,
      "outputs": [
        {
          "output_type": "stream",
          "name": "stdout",
          "text": [
            "Teste loss: 0.4453469216823578\n",
            "Teste accuracy: 0.8391000032424927\n"
          ]
        }
      ]
    },
    {
      "cell_type": "code",
      "source": [
        "# model_2.evaluate(x_test,y_test)"
      ],
      "metadata": {
        "colab": {
          "base_uri": "https://localhost:8080/"
        },
        "id": "gOnXX03qztw7",
        "outputId": "c6d4ec6f-fa9a-4c0f-c413-5827c6f0496c"
      },
      "execution_count": 57,
      "outputs": [
        {
          "output_type": "stream",
          "name": "stdout",
          "text": [
            "313/313 [==============================] - 4s 12ms/step - loss: 2.3041 - accuracy: 0.0818\n"
          ]
        },
        {
          "output_type": "execute_result",
          "data": {
            "text/plain": [
              "[2.304079055786133, 0.08179999887943268]"
            ]
          },
          "metadata": {},
          "execution_count": 57
        }
      ]
    },
    {
      "cell_type": "code",
      "source": [
        "pd.DataFrame(model_history_2.history).plot(figsize = (8,5))\n",
        "plt.grid(True)\n",
        "plt.gca().set_ylim(0,1)\n",
        "plt.show()"
      ],
      "metadata": {
        "colab": {
          "base_uri": "https://localhost:8080/",
          "height": 324
        },
        "id": "07L4bGyB0fTh",
        "outputId": "f474aed4-9ab0-4535-efe3-cde49c395150"
      },
      "execution_count": 39,
      "outputs": [
        {
          "output_type": "display_data",
          "data": {
            "image/png": "[encoded data removed]",
            "text/plain": [
              "<Figure size 576x360 with 1 Axes>"
            ]
          },
          "metadata": {
            "needs_background": "light"
          }
        }
      ]
    },
    {
      "cell_type": "code",
      "source": [
        "# fashion_mnist = keras.datasets.fashion_mnist\n",
        "# (train_images, train_labels), (test_images, test_labels) = fashion_mnist.load_data()\n",
        "\n",
        "# fashion_mnist = keras.datasets.fashion_mnist\n",
        "# (x_train_full, y_train_full),(x_test, y_test) = fashion_mnist.load_data()\n",
        "\n",
        "# x_valid, x_train = x_train_n[:5000], x_train_n[5000:]\n",
        "# y_valid, y_train = y_train_full[:5000], y_train_full[5000:]\n",
        "# x_test = x_test_n\n",
        "\n",
        "fashion_mnist = keras.datasets.fashion_mnist\n",
        "(train_images, train_labels), (test_images, test_labels) = fashion_mnist.load_data()\n"
      ],
      "metadata": {
        "id": "CKZEXEFwAEab"
      },
      "execution_count": 45,
      "outputs": []
    },
    {
      "cell_type": "code",
      "source": [
        "train_images=train_images.reshape((60000, 28, 28, 1))\n",
        "test_images=test_images.reshape((10000, 28, 28,1))"
      ],
      "metadata": {
        "id": "29h_nXaWAEXu"
      },
      "execution_count": 46,
      "outputs": []
    },
    {
      "cell_type": "code",
      "source": [
        "train_images=train_images.astype(\"float32\")\n",
        "test_images=test_images.astype(\"float32\")"
      ],
      "metadata": {
        "id": "kDCRcaR2AETV"
      },
      "execution_count": 47,
      "outputs": []
    },
    {
      "cell_type": "code",
      "source": [
        "train_images=train_images/255.0\n",
        "test_images=test_images/255.0"
      ],
      "metadata": {
        "id": "NygIs_AuAEQl"
      },
      "execution_count": 48,
      "outputs": []
    },
    {
      "cell_type": "code",
      "source": [
        "from tensorflow.python.keras.models import Sequential\n",
        "from tensorflow.keras.optimizers import Adam\n",
        "from tensorflow.keras.callbacks import TensorBoard\n",
        "\n",
        "#model\n",
        "\n",
        "model_3 = Sequential()\n",
        "model_3.add(Conv2D(32, (3, 3), activation='relu', kernel_initializer='he_uniform', padding='same', input_shape=(28, 28, 1)))\n",
        "model_3.add(BatchNormalization())\n",
        "model_3.add(Conv2D(32, (3, 3), activation='relu', kernel_initializer='he_uniform', padding='same'))\n",
        "model_3.add(BatchNormalization())\n",
        "model_3.add(MaxPooling2D((2, 2)))\n",
        "model_3.add(Dropout(0.4))\n",
        "model_3.add(Conv2D(64, (3, 3), activation='relu', kernel_initializer='he_uniform', padding='same'))\n",
        "model_3.add(BatchNormalization())\n",
        "model_3.add(Conv2D(64, (3, 3), activation='relu', kernel_initializer='he_uniform', padding='same'))\n",
        "model_3.add(BatchNormalization())\n",
        "model_3.add(MaxPooling2D((2, 2)))\n",
        "model_3.add(BatchNormalization())\n",
        "model_3.add(Dropout(0.5))\n",
        "model_3.add(Conv2D(128, (3, 3), activation='relu', kernel_initializer='he_uniform', padding='same'))\n",
        "model_3.add(BatchNormalization())\n",
        "model_3.add(Conv2D(128, (3, 3), activation='relu', kernel_initializer='he_uniform', padding='same'))\n",
        "model_3.add(BatchNormalization())\n",
        "model_3.add(MaxPooling2D((2, 2)))\n",
        "model_3.add(Dropout(0.6))\n",
        "model_3.add(Conv2D(256, (3, 3), activation='relu', kernel_initializer='he_uniform', padding='same'))\n",
        "model_3.add(BatchNormalization())\n",
        "model_3.add(MaxPooling2D((2, 2)))\n",
        "model_3.add(Dropout(0.7))\n",
        "model_3.add(Flatten())\n",
        "model_3.add(Dense(128, activation='relu', kernel_initializer='he_uniform'))\n",
        "model_3.add(BatchNormalization())\n",
        "model_3.add(Dropout(0.6))\n",
        "model_3.add(Dense(10, activation='softmax'))"
      ],
      "metadata": {
        "id": "KFqI8u3FAEKl"
      },
      "execution_count": 49,
      "outputs": []
    },
    {
      "cell_type": "code",
      "source": [
        "model_3.compile(optimizer='adam',\n",
        "              loss='sparse_categorical_crossentropy',\n",
        "              metrics=['accuracy'])"
      ],
      "metadata": {
        "id": "8cBQjft-AEGN"
      },
      "execution_count": 50,
      "outputs": []
    },
    {
      "cell_type": "code",
      "source": [
        "# history_3 = model_3.fit(x_train, y_train, epochs=50, batch_size=512, shuffle=True, validation_split=0.2)\n",
        "history_3 = model_3.fit(train_images, train_labels, epochs=50, batch_size=512, shuffle=True, validation_split=0.1)\n",
        "# validation_data=(x_valid, y_valid)\n",
        "# validation_split=0.2"
      ],
      "metadata": {
        "colab": {
          "base_uri": "https://localhost:8080/"
        },
        "id": "X2as2CUGAEBT",
        "outputId": "298ba1e7-27c8-4b79-9279-ef4d94b95c3d"
      },
      "execution_count": 51,
      "outputs": [
        {
          "output_type": "stream",
          "name": "stdout",
          "text": [
            "Epoch 1/50\n",
            "106/106 [==============================] - 23s 113ms/step - loss: 1.8393 - accuracy: 0.4067 - val_loss: 1.9500 - val_accuracy: 0.2512\n",
            "Epoch 2/50\n",
            "106/106 [==============================] - 10s 98ms/step - loss: 0.9050 - accuracy: 0.6593 - val_loss: 1.5330 - val_accuracy: 0.4550\n",
            "Epoch 3/50\n",
            "106/106 [==============================] - 10s 98ms/step - loss: 0.7241 - accuracy: 0.7294 - val_loss: 1.2322 - val_accuracy: 0.6042\n",
            "Epoch 4/50\n",
            "106/106 [==============================] - 10s 98ms/step - loss: 0.6288 - accuracy: 0.7684 - val_loss: 0.9462 - val_accuracy: 0.7085\n",
            "Epoch 5/50\n",
            "106/106 [==============================] - 10s 98ms/step - loss: 0.5601 - accuracy: 0.7971 - val_loss: 0.6774 - val_accuracy: 0.7775\n",
            "Epoch 6/50\n",
            "106/106 [==============================] - 10s 97ms/step - loss: 0.5094 - accuracy: 0.8188 - val_loss: 0.4578 - val_accuracy: 0.8295\n",
            "Epoch 7/50\n",
            "106/106 [==============================] - 10s 97ms/step - loss: 0.4700 - accuracy: 0.8324 - val_loss: 0.3957 - val_accuracy: 0.8570\n",
            "Epoch 8/50\n",
            "106/106 [==============================] - 10s 97ms/step - loss: 0.4366 - accuracy: 0.8480 - val_loss: 0.3868 - val_accuracy: 0.8612\n",
            "Epoch 9/50\n",
            "106/106 [==============================] - 10s 96ms/step - loss: 0.4082 - accuracy: 0.8586 - val_loss: 0.3096 - val_accuracy: 0.8915\n",
            "Epoch 10/50\n",
            "106/106 [==============================] - 10s 99ms/step - loss: 0.3838 - accuracy: 0.8679 - val_loss: 0.3181 - val_accuracy: 0.8900\n",
            "Epoch 11/50\n",
            "106/106 [==============================] - 10s 96ms/step - loss: 0.3652 - accuracy: 0.8746 - val_loss: 0.2843 - val_accuracy: 0.9027\n",
            "Epoch 12/50\n",
            "106/106 [==============================] - 10s 96ms/step - loss: 0.3499 - accuracy: 0.8805 - val_loss: 0.2703 - val_accuracy: 0.9075\n",
            "Epoch 13/50\n",
            "106/106 [==============================] - 10s 96ms/step - loss: 0.3401 - accuracy: 0.8831 - val_loss: 0.2669 - val_accuracy: 0.9068\n",
            "Epoch 14/50\n",
            "106/106 [==============================] - 10s 96ms/step - loss: 0.3273 - accuracy: 0.8890 - val_loss: 0.2695 - val_accuracy: 0.9033\n",
            "Epoch 15/50\n",
            "106/106 [==============================] - 10s 96ms/step - loss: 0.3172 - accuracy: 0.8914 - val_loss: 0.2467 - val_accuracy: 0.9108\n",
            "Epoch 16/50\n",
            "106/106 [==============================] - 10s 96ms/step - loss: 0.3068 - accuracy: 0.8950 - val_loss: 0.2543 - val_accuracy: 0.9133\n",
            "Epoch 17/50\n",
            "106/106 [==============================] - 10s 97ms/step - loss: 0.3008 - accuracy: 0.8981 - val_loss: 0.2471 - val_accuracy: 0.9158\n",
            "Epoch 18/50\n",
            "106/106 [==============================] - 10s 96ms/step - loss: 0.2965 - accuracy: 0.9004 - val_loss: 0.2482 - val_accuracy: 0.9115\n",
            "Epoch 19/50\n",
            "106/106 [==============================] - 10s 97ms/step - loss: 0.2881 - accuracy: 0.9023 - val_loss: 0.2401 - val_accuracy: 0.9160\n",
            "Epoch 20/50\n",
            "106/106 [==============================] - 10s 96ms/step - loss: 0.2828 - accuracy: 0.9044 - val_loss: 0.2340 - val_accuracy: 0.9205\n",
            "Epoch 21/50\n",
            "106/106 [==============================] - 10s 96ms/step - loss: 0.2791 - accuracy: 0.9048 - val_loss: 0.2496 - val_accuracy: 0.9163\n",
            "Epoch 22/50\n",
            "106/106 [==============================] - 10s 96ms/step - loss: 0.2713 - accuracy: 0.9077 - val_loss: 0.2412 - val_accuracy: 0.9160\n",
            "Epoch 23/50\n",
            "106/106 [==============================] - 10s 96ms/step - loss: 0.2649 - accuracy: 0.9096 - val_loss: 0.2208 - val_accuracy: 0.9212\n",
            "Epoch 24/50\n",
            "106/106 [==============================] - 10s 96ms/step - loss: 0.2560 - accuracy: 0.9122 - val_loss: 0.2249 - val_accuracy: 0.9232\n",
            "Epoch 25/50\n",
            "106/106 [==============================] - 10s 96ms/step - loss: 0.2565 - accuracy: 0.9121 - val_loss: 0.2253 - val_accuracy: 0.9208\n",
            "Epoch 26/50\n",
            "106/106 [==============================] - 10s 96ms/step - loss: 0.2543 - accuracy: 0.9142 - val_loss: 0.2183 - val_accuracy: 0.9258\n",
            "Epoch 27/50\n",
            "106/106 [==============================] - 10s 97ms/step - loss: 0.2526 - accuracy: 0.9134 - val_loss: 0.1964 - val_accuracy: 0.9310\n",
            "Epoch 28/50\n",
            "106/106 [==============================] - 10s 96ms/step - loss: 0.2471 - accuracy: 0.9154 - val_loss: 0.2078 - val_accuracy: 0.9250\n",
            "Epoch 29/50\n",
            "106/106 [==============================] - 10s 96ms/step - loss: 0.2416 - accuracy: 0.9165 - val_loss: 0.2181 - val_accuracy: 0.9262\n",
            "Epoch 30/50\n",
            "106/106 [==============================] - 10s 96ms/step - loss: 0.2391 - accuracy: 0.9185 - val_loss: 0.1938 - val_accuracy: 0.9322\n",
            "Epoch 31/50\n",
            "106/106 [==============================] - 10s 96ms/step - loss: 0.2335 - accuracy: 0.9200 - val_loss: 0.1967 - val_accuracy: 0.9290\n",
            "Epoch 32/50\n",
            "106/106 [==============================] - 10s 97ms/step - loss: 0.2323 - accuracy: 0.9197 - val_loss: 0.2060 - val_accuracy: 0.9280\n",
            "Epoch 33/50\n",
            "106/106 [==============================] - 10s 97ms/step - loss: 0.2325 - accuracy: 0.9208 - val_loss: 0.1937 - val_accuracy: 0.9325\n",
            "Epoch 34/50\n",
            "106/106 [==============================] - 11s 99ms/step - loss: 0.2277 - accuracy: 0.9216 - val_loss: 0.2081 - val_accuracy: 0.9257\n",
            "Epoch 35/50\n",
            "106/106 [==============================] - 10s 96ms/step - loss: 0.2259 - accuracy: 0.9221 - val_loss: 0.2115 - val_accuracy: 0.9283\n",
            "Epoch 36/50\n",
            "106/106 [==============================] - 10s 97ms/step - loss: 0.2202 - accuracy: 0.9231 - val_loss: 0.2009 - val_accuracy: 0.9327\n",
            "Epoch 37/50\n",
            "106/106 [==============================] - 10s 96ms/step - loss: 0.2218 - accuracy: 0.9235 - val_loss: 0.2037 - val_accuracy: 0.9302\n",
            "Epoch 38/50\n",
            "106/106 [==============================] - 10s 96ms/step - loss: 0.2177 - accuracy: 0.9263 - val_loss: 0.1936 - val_accuracy: 0.9337\n",
            "Epoch 39/50\n",
            "106/106 [==============================] - 10s 96ms/step - loss: 0.2131 - accuracy: 0.9271 - val_loss: 0.1904 - val_accuracy: 0.9332\n",
            "Epoch 40/50\n",
            "106/106 [==============================] - 10s 96ms/step - loss: 0.2152 - accuracy: 0.9259 - val_loss: 0.1864 - val_accuracy: 0.9350\n",
            "Epoch 41/50\n",
            "106/106 [==============================] - 10s 97ms/step - loss: 0.2101 - accuracy: 0.9279 - val_loss: 0.2158 - val_accuracy: 0.9297\n",
            "Epoch 42/50\n",
            "106/106 [==============================] - 10s 96ms/step - loss: 0.2086 - accuracy: 0.9285 - val_loss: 0.1922 - val_accuracy: 0.9353\n",
            "Epoch 43/50\n",
            "106/106 [==============================] - 10s 96ms/step - loss: 0.2053 - accuracy: 0.9283 - val_loss: 0.1850 - val_accuracy: 0.9372\n",
            "Epoch 44/50\n",
            "106/106 [==============================] - 10s 97ms/step - loss: 0.2046 - accuracy: 0.9294 - val_loss: 0.1952 - val_accuracy: 0.9323\n",
            "Epoch 45/50\n",
            "106/106 [==============================] - 10s 96ms/step - loss: 0.2022 - accuracy: 0.9302 - val_loss: 0.1886 - val_accuracy: 0.9357\n",
            "Epoch 46/50\n",
            "106/106 [==============================] - 10s 96ms/step - loss: 0.2048 - accuracy: 0.9302 - val_loss: 0.1842 - val_accuracy: 0.9365\n",
            "Epoch 47/50\n",
            "106/106 [==============================] - 10s 96ms/step - loss: 0.1988 - accuracy: 0.9313 - val_loss: 0.1883 - val_accuracy: 0.9368\n",
            "Epoch 48/50\n",
            "106/106 [==============================] - 10s 96ms/step - loss: 0.1966 - accuracy: 0.9313 - val_loss: 0.1809 - val_accuracy: 0.9380\n",
            "Epoch 49/50\n",
            "106/106 [==============================] - 10s 96ms/step - loss: 0.1967 - accuracy: 0.9318 - val_loss: 0.1860 - val_accuracy: 0.9338\n",
            "Epoch 50/50\n",
            "106/106 [==============================] - 10s 96ms/step - loss: 0.1938 - accuracy: 0.9334 - val_loss: 0.1752 - val_accuracy: 0.9392\n"
          ]
        }
      ]
    },
    {
      "cell_type": "code",
      "source": [
        "import matplotlib.pyplot as plt\n",
        "fig, axs = plt.subplots(1,2,figsize=(15,5)) \n",
        "    # summarize history for accuracy\n",
        "axs[0].plot(history_3.history['accuracy']) \n",
        "axs[0].plot(history_3.history['val_accuracy']) \n",
        "axs[0].set_title('Model Accuracy')\n",
        "axs[0].set_ylabel('Accuracy') \n",
        "axs[0].set_xlabel('Epoch')\n",
        "axs[0].legend(['train', 'validate'], loc='upper left')\n",
        "    # summarize history for loss\n",
        "axs[1].plot(history_3.history['loss']) \n",
        "axs[1].plot(history_3.history['val_loss']) \n",
        "axs[1].set_title('Model Loss')\n",
        "axs[1].set_ylabel('Loss') \n",
        "axs[1].set_xlabel('Epoch')\n",
        "axs[1].legend(['train', 'validate'], loc='upper left')\n",
        "plt.show()"
      ],
      "metadata": {
        "colab": {
          "base_uri": "https://localhost:8080/",
          "height": 350
        },
        "id": "eznnnYIYAeqw",
        "outputId": "75d1b94d-e106-44e1-da63-8edce0efbe76"
      },
      "execution_count": 52,
      "outputs": [
        {
          "output_type": "display_data",
          "data": {
            "image/png": "[encoded data removed]",
            "text/plain": [
              "<Figure size 1080x360 with 2 Axes>"
            ]
          },
          "metadata": {
            "needs_background": "light"
          }
        }
      ]
    },
    {
      "cell_type": "code",
      "source": [
        "score = model_3.evaluate(train_images, train_labels, verbose=0)\n",
        "print('Teste loss:', score[0])\n",
        "print('Teste accuracy:', score[1])"
      ],
      "metadata": {
        "colab": {
          "base_uri": "https://localhost:8080/"
        },
        "id": "HlAbVjfxTQi9",
        "outputId": "a0f62686-e0a3-4803-d070-c883bc8b52fb"
      },
      "execution_count": 54,
      "outputs": [
        {
          "output_type": "stream",
          "name": "stdout",
          "text": [
            "Teste loss: 0.12761645019054413\n",
            "Teste accuracy: 0.9555500149726868\n"
          ]
        }
      ]
    },
    {
      "cell_type": "markdown",
      "source": [
        "# Avaliando o desempenho e prevendo"
      ],
      "metadata": {
        "id": "cWbkEg1GkXSq"
      }
    },
    {
      "cell_type": "code",
      "source": [
        "# Calculamos a perda e a precisão do teste\n",
        "score = model.evaluate(x_test,y_test, verbose=0)\n",
        "print('Teste loss:', score[0])\n",
        "print('Teste accuracy:', score[1])"
      ],
      "metadata": {
        "colab": {
          "base_uri": "https://localhost:8080/"
        },
        "id": "sBHgtsN4kaho",
        "outputId": "f25f95d6-a972-49d9-f8eb-0173a60e6d58"
      },
      "execution_count": null,
      "outputs": [
        {
          "output_type": "stream",
          "name": "stdout",
          "text": [
            "Teste loss: 0.3366333842277527\n",
            "Teste accuracy: 0.8820000290870667\n"
          ]
        }
      ]
    },
    {
      "cell_type": "code",
      "source": [
        "x_new = x_test[:] # considerando as três primeiras amostras do conjunto de dados de teste"
      ],
      "metadata": {
        "id": "K2WoGdSzkm0X"
      },
      "execution_count": null,
      "outputs": []
    },
    {
      "cell_type": "code",
      "source": [
        "y_proba = model.predict(x_new) # probabilidade para cada classe\n",
        "y_proba.round(2)"
      ],
      "metadata": {
        "colab": {
          "base_uri": "https://localhost:8080/"
        },
        "id": "0BKyOAKekmoo",
        "outputId": "f102c124-80ee-4376-d907-74a69a19d682"
      },
      "execution_count": null,
      "outputs": [
        {
          "output_type": "execute_result",
          "data": {
            "text/plain": [
              "array([[0.  , 0.  , 0.  , ..., 0.03, 0.  , 0.96],\n",
              "       [0.  , 0.  , 0.99, ..., 0.  , 0.  , 0.  ],\n",
              "       [0.  , 1.  , 0.  , ..., 0.  , 0.  , 0.  ],\n",
              "       ...,\n",
              "       [0.01, 0.  , 0.  , ..., 0.  , 0.99, 0.  ],\n",
              "       [0.  , 1.  , 0.  , ..., 0.  , 0.  , 0.  ],\n",
              "       [0.  , 0.  , 0.  , ..., 0.  , 0.  , 0.  ]], dtype=float32)"
            ]
          },
          "metadata": {},
          "execution_count": 89
        }
      ]
    },
    {
      "cell_type": "code",
      "source": [
        "y_pred = np.argmax(model.predict(x_new), axis=-1)\n",
        "y_pred\n",
        "# categoria começa de 0 a 9\n",
        "# primeira categoria de registro = 9 que pode ser confirmado pelas probabilidades acima\n",
        "# categoria da segunda amostra = 2\n",
        "# categoria da terceira amostra = 1"
      ],
      "metadata": {
        "colab": {
          "base_uri": "https://localhost:8080/"
        },
        "id": "qlP9H_2pkmUd",
        "outputId": "5506f602-d6a7-4b74-db27-73c5d08881ba"
      },
      "execution_count": null,
      "outputs": [
        {
          "output_type": "execute_result",
          "data": {
            "text/plain": [
              "array([9, 2, 1, ..., 8, 1, 5])"
            ]
          },
          "metadata": {},
          "execution_count": 90
        }
      ]
    },
    {
      "cell_type": "code",
      "source": [
        "pred_names = np.array(class_names)[y_pred]\n",
        "pred_names"
      ],
      "metadata": {
        "colab": {
          "base_uri": "https://localhost:8080/"
        },
        "id": "BGVIPAjol_PE",
        "outputId": "99b539ad-c6c0-4994-b5ed-836d222a451a"
      },
      "execution_count": null,
      "outputs": [
        {
          "output_type": "execute_result",
          "data": {
            "text/plain": [
              "array(['Ankle boot', 'Pullover', 'Trouser', ..., 'Bag', 'Trouser',\n",
              "       'Sandal'], dtype='<U11')"
            ]
          },
          "metadata": {},
          "execution_count": 91
        }
      ]
    },
    {
      "cell_type": "code",
      "source": [
        "print(plt.imshow(x_test[20]))\n",
        "print(plt.imshow(x_test[20]),pred_names[20])"
      ],
      "metadata": {
        "colab": {
          "base_uri": "https://localhost:8080/",
          "height": 300
        },
        "id": "n58NPu-WmZaG",
        "outputId": "45a6c716-845f-48d6-a605-924f1471b948"
      },
      "execution_count": null,
      "outputs": [
        {
          "output_type": "stream",
          "name": "stdout",
          "text": [
            "AxesImage(54,36;334.8x217.44)\n",
            "AxesImage(54,36;334.8x217.44) Pullover\n"
          ]
        },
        {
          "output_type": "display_data",
          "data": {
            "image/png": "[encoded data removed]",
            "text/plain": [
              "<Figure size 432x288 with 1 Axes>"
            ]
          },
          "metadata": {
            "needs_background": "light"
          }
        }
      ]
    },
    {
      "cell_type": "code",
      "source": [
        "print(plt.imshow(x_test[2000]))"
      ],
      "metadata": {
        "colab": {
          "base_uri": "https://localhost:8080/",
          "height": 282
        },
        "id": "90iN5R30mcVU",
        "outputId": "8f2360e7-c445-4603-9bce-daf121fc1b30"
      },
      "execution_count": null,
      "outputs": [
        {
          "output_type": "stream",
          "name": "stdout",
          "text": [
            "AxesImage(54,36;334.8x217.44)\n"
          ]
        },
        {
          "output_type": "display_data",
          "data": {
            "image/png": "[encoded data removed]",
            "text/plain": [
              "<Figure size 432x288 with 1 Axes>"
            ]
          },
          "metadata": {
            "needs_background": "light"
          }
        }
      ]
    },
    {
      "cell_type": "code",
      "source": [
        "print(plt.imshow(x_test[525]))"
      ],
      "metadata": {
        "colab": {
          "base_uri": "https://localhost:8080/",
          "height": 282
        },
        "id": "OdPZ30qCmeaI",
        "outputId": "30444047-50c9-4395-f7b4-3b58e13de210"
      },
      "execution_count": null,
      "outputs": [
        {
          "output_type": "stream",
          "name": "stdout",
          "text": [
            "AxesImage(54,36;334.8x217.44)\n"
          ]
        },
        {
          "output_type": "display_data",
          "data": {
            "image/png": "[encoded data removed]",
            "text/plain": [
              "<Figure size 432x288 with 1 Axes>"
            ]
          },
          "metadata": {
            "needs_background": "light"
          }
        }
      ]
    },
    {
      "cell_type": "code",
      "source": [
        "model.summary()"
      ],
      "metadata": {
        "colab": {
          "base_uri": "https://localhost:8080/"
        },
        "id": "fZVLA_3Gmi9s",
        "outputId": "f36f94cc-91f7-4b82-bd10-39e66e2580f5"
      },
      "execution_count": null,
      "outputs": [
        {
          "output_type": "stream",
          "name": "stdout",
          "text": [
            "Model: \"sequential_2\"\n",
            "_________________________________________________________________\n",
            " Layer (type)                Output Shape              Param #   \n",
            "=================================================================\n",
            " flatten_2 (Flatten)         (None, 784)               0         \n",
            "                                                                 \n",
            " dense_6 (Dense)             (None, 300)               235500    \n",
            "                                                                 \n",
            " dense_7 (Dense)             (None, 100)               30100     \n",
            "                                                                 \n",
            " dense_8 (Dense)             (None, 10)                1010      \n",
            "                                                                 \n",
            "=================================================================\n",
            "Total params: 266,610\n",
            "Trainable params: 266,610\n",
            "Non-trainable params: 0\n",
            "_________________________________________________________________\n"
          ]
        }
      ]
    },
    {
      "cell_type": "code",
      "source": [
        "y_pred = model.predict(x_new)\n",
        "print(y_pred)"
      ],
      "metadata": {
        "colab": {
          "base_uri": "https://localhost:8080/"
        },
        "id": "1G5zsJsEmlTb",
        "outputId": "9a39bf2b-1625-419d-91a1-f4fd6218954e"
      },
      "execution_count": null,
      "outputs": [
        {
          "output_type": "stream",
          "name": "stdout",
          "text": [
            "[[3.3825695e-06 3.8628036e-07 6.5566477e-05 ... 2.7664371e-02\n",
            "  7.0207153e-04 9.6174222e-01]\n",
            " [1.1373546e-05 2.5406990e-08 9.8671442e-01 ... 6.6119410e-12\n",
            "  6.9021184e-09 1.6687219e-11]\n",
            " [2.0375967e-06 9.9999738e-01 1.6198864e-08 ... 2.0313344e-13\n",
            "  8.6761691e-09 1.2582500e-12]\n",
            " ...\n",
            " [1.1833573e-02 8.4372056e-07 6.8143854e-04 ... 4.1039252e-06\n",
            "  9.8639536e-01 6.6005024e-09]\n",
            " [5.6129288e-06 9.9992752e-01 4.8479751e-07 ... 2.6506831e-11\n",
            "  2.1855682e-07 5.2459939e-08]\n",
            " [3.2565364e-05 3.7191146e-06 2.4438350e-04 ... 4.6222587e-03\n",
            "  1.4940049e-03 8.1663522e-05]]\n"
          ]
        }
      ]
    }
  ]
}