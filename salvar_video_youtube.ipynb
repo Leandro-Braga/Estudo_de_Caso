{
  "nbformat": 4,
  "nbformat_minor": 0,
  "metadata": {
    "colab": {
      "provenance": [],
      "authorship_tag": "ABX9TyMd569b7LRlccFCcay/D09Q",
      "include_colab_link": true
    },
    "kernelspec": {
      "name": "python3",
      "display_name": "Python 3"
    },
    "language_info": {
      "name": "python"
    }
  },
  "cells": [
    {
      "cell_type": "markdown",
      "metadata": {
        "id": "view-in-github",
        "colab_type": "text"
      },
      "source": [
        "<a href=\"https://colab.research.google.com/github/Leandro-Braga/Estudo_de_Caso/blob/main/salvar_video_youtube.ipynb\" target=\"_parent\"><img src=\"https://colab.research.google.com/assets/colab-badge.svg\" alt=\"Open In Colab\"/></a>"
      ]
    },
    {
      "cell_type": "code",
      "source": [
        "!pip install pytube"
      ],
      "metadata": {
        "colab": {
          "base_uri": "https://localhost:8080/"
        },
        "id": "W4gXlQCTQiBU",
        "outputId": "6ac6aab6-725f-4085-c3cf-3ad4d2d4a576"
      },
      "execution_count": 2,
      "outputs": [
        {
          "output_type": "stream",
          "name": "stdout",
          "text": [
            "Looking in indexes: https://pypi.org/simple, https://us-python.pkg.dev/colab-wheels/public/simple/\n",
            "Collecting pytube\n",
            "  Downloading pytube-12.1.2-py3-none-any.whl (57 kB)\n",
            "\u001b[K     |████████████████████████████████| 57 kB 3.9 MB/s \n",
            "\u001b[?25hInstalling collected packages: pytube\n",
            "Successfully installed pytube-12.1.2\n"
          ]
        }
      ]
    },
    {
      "cell_type": "code",
      "execution_count": 5,
      "metadata": {
        "colab": {
          "base_uri": "https://localhost:8080/",
          "height": 36
        },
        "id": "IZg5qsOgQYNb",
        "outputId": "6f4bdc03-d92a-4210-8524-b06d29324f8e"
      },
      "outputs": [
        {
          "output_type": "execute_result",
          "data": {
            "text/plain": [
              "'/content/C:\\\\Users\\\\leandro.itecon\\\\Downloads\\\\salvar_docs\\\\/[ DATAB Live ] Linguagem DAX - Avançado de Verdade.mp4'"
            ],
            "application/vnd.google.colaboratory.intrinsic+json": {
              "type": "string"
            }
          },
          "metadata": {},
          "execution_count": 5
        }
      ],
      "source": [
        "import pytube\n",
        "link = \"https://www.youtube.com/watch?v=wXEY0gQIgN8\" \n",
        "salvar = 'C:\\\\Users\\\\leandro.itecon\\\\Downloads\\\\salvar_docs\\\\'\n",
        "yt = pytube.YouTube(link)\n",
        "stream = yt.streams.get_highest_resolution()\n",
        "stream.download(salvar)"
      ]
    }
  ]
}